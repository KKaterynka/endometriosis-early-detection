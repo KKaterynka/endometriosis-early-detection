{
 "cells": [
  {
   "cell_type": "markdown",
   "metadata": {},
   "source": [
    "# ⭐️ Data Analysis\n",
    "\n",
    "A comprehensive analysis pertaining to the statistics presented below can be found in Section 4.7 (Data Analysis)."
   ]
  },
  {
   "cell_type": "markdown",
   "metadata": {},
   "source": [
    "Import all the required packages."
   ]
  },
  {
   "cell_type": "code",
   "execution_count": 21,
   "metadata": {},
   "outputs": [],
   "source": [
    "import sys\n",
    "\n",
    "sys.path.append(\"./preprocessing_utils\")\n",
    "sys.path.append(\"./feature_selection_utils\")\n",
    "sys.path.append(\"./visual_utils\")\n",
    "sys.path.append(\"./experiment_utils\")"
   ]
  },
  {
   "cell_type": "code",
   "execution_count": 22,
   "metadata": {},
   "outputs": [],
   "source": [
    "import pandas as pd\n",
    "import numpy as np\n",
    "import experiments_utils\n",
    "\n",
    "# configure pandas settings for data display\n",
    "pd.options.mode.chained_assignment = None\n",
    "pd.set_option(\"display.max_rows\", None)\n",
    "pd.set_option(\"display.max_columns\", None)"
   ]
  },
  {
   "cell_type": "markdown",
   "metadata": {},
   "source": [
    "Load the dataset."
   ]
  },
  {
   "cell_type": "code",
   "execution_count": 23,
   "metadata": {},
   "outputs": [],
   "source": [
    "df_endo = pd.read_csv(experiments_utils.ENDO_DATA_PREDICTION_PATH)"
   ]
  },
  {
   "cell_type": "code",
   "execution_count": 24,
   "metadata": {},
   "outputs": [],
   "source": [
    "df_endo = df_endo[\n",
    "    experiments_utils.ALL_AVAILABLE_FEATURES\n",
    "    + [\"country\", \"ethnicity\", \"7plus_days_period_duration\"]\n",
    "]"
   ]
  },
  {
   "cell_type": "code",
   "execution_count": 25,
   "metadata": {},
   "outputs": [],
   "source": [
    "(\n",
    "    endo_df,\n",
    "    no_endo_df,\n",
    "    pain_frequency_map,\n",
    "    PELVIC_PAIN_DURATION_CATEGORIES,\n",
    "    LOWER_BACK_PAIN_DURATION_CATEGORIES,\n",
    "    HEADACHE_DURATION_CATEGORIES,\n",
    ") = experiments_utils.prep_data_for_analysis(df_endo)"
   ]
  },
  {
   "cell_type": "code",
   "execution_count": 26,
   "metadata": {},
   "outputs": [],
   "source": [
    "endo_cases_num = endo_df.shape[0]\n",
    "no_endo_cases_num = no_endo_df.shape[0]"
   ]
  },
  {
   "cell_type": "markdown",
   "metadata": {},
   "source": [
    "## 🧍‍♀️ Demographics"
   ]
  },
  {
   "cell_type": "markdown",
   "metadata": {},
   "source": [
    "### 👵🧑👶 Age Distribution"
   ]
  },
  {
   "cell_type": "code",
   "execution_count": 27,
   "metadata": {},
   "outputs": [
    {
     "name": "stdout",
     "output_type": "stream",
     "text": [
      "Age of 18-24 for women with endometriosis: 52 (22.7%), without endometriosis: 79 (24.5%).\n",
      "Age of 25-34 for women with endometriosis: 94 (41.0%), without endometriosis: 124 (38.4%).\n",
      "Age of 35-44 for women with endometriosis: 63 (27.5%), without endometriosis: 79 (24.5%).\n",
      "Age of under 18 for women with endometriosis: 7 (3.1%), without endometriosis: 19 (5.9%).\n",
      "Age of 45-54 for women with endometriosis: 12 (5.2%), without endometriosis: 19 (5.9%).\n",
      "Age of unknown for women with endometriosis: 1 (0.4%), without endometriosis: 3 (0.9%).\n"
     ]
    }
   ],
   "source": [
    "for i in df_endo[\"age_group\"].unique():\n",
    "    text = f\"Age of {i.lower()} for women\"\n",
    "    experiments_utils.print_stats(endo_df, no_endo_df, text, \"age_group\", cat=i)"
   ]
  },
  {
   "cell_type": "markdown",
   "metadata": {},
   "source": [
    "### 🗺️ Country Distribution"
   ]
  },
  {
   "cell_type": "code",
   "execution_count": 28,
   "metadata": {},
   "outputs": [
    {
     "name": "stdout",
     "output_type": "stream",
     "text": [
      "has_endometriosis         0    1  All\n",
      "country                              \n",
      "All                     318  224  542\n",
      "United States           131   77  208\n",
      "United Kingdom           42   48   90\n",
      "Canada                   15   34   49\n",
      "Ireland                  21    9   30\n",
      "Australia                10   14   24\n",
      "Germany                  18    4   22\n",
      "Ukraine                   5    5   10\n",
      "Netherlands               4    3    7\n",
      "India                     4    2    6\n",
      "New Zealand               3    3    6\n",
      "France                    4    1    5\n",
      "Finland                   2    3    5\n",
      "Brazil                    4    1    5\n",
      "Poland                    4    1    5\n",
      "Hungary                   4    0    4\n",
      "Denmark                   2    2    4\n",
      "Romania                   3    1    4\n",
      "Sweden                    4    0    4\n",
      "Nigeria                   0    3    3\n",
      "Portugal                  1    2    3\n",
      "Pakistan                  2    1    3\n",
      "Italy                     3    0    3\n",
      "Austria                   3    0    3\n",
      "Croatia                   2    1    3\n",
      "Czech Republic            3    0    3\n",
      "Mexico                    0    2    2\n",
      "Malaysia                  1    1    2\n",
      "Philippines               2    0    2\n",
      "Spain                     2    0    2\n",
      "Belgium                   1    1    2\n",
      "Jamaica                   2    0    2\n",
      "Belarus                   1    0    1\n",
      "Singapore                 0    1    1\n",
      "Turkey                    1    0    1\n",
      "Bangladesh                1    0    1\n",
      "Sudan                     0    1    1\n",
      "Bahamas, The              1    0    1\n",
      "South Africa              1    0    1\n",
      "Slovenia                  1    0    1\n",
      "Indonesia                 1    0    1\n",
      "Chile                     1    0    1\n",
      "Russia                    1    0    1\n",
      "Bosnia and Herzegovina    1    0    1\n",
      "Iran                      1    0    1\n",
      "China                     0    1    1\n",
      "Colombia                  1    0    1\n",
      "Malta                     1    0    1\n",
      "Lithuania                 0    1    1\n",
      "Kazakhstan                1    0    1\n",
      "Eritrea                   0    1    1\n",
      "Estonia                   1    0    1\n",
      "Armenia                   1    0    1\n"
     ]
    }
   ],
   "source": [
    "table = pd.crosstab(\n",
    "    df_endo[\"country\"], df_endo[\"has_endometriosis\"], margins=True\n",
    ").sort_values(by=\"All\", ascending=False)\n",
    "print(table)"
   ]
  },
  {
   "cell_type": "code",
   "execution_count": 106,
   "metadata": {},
   "outputs": [
    {
     "name": "stdout",
     "output_type": "stream",
     "text": [
      "Participants come from 52 distinct countries.\n"
     ]
    }
   ],
   "source": [
    "print(\n",
    "    f\"Participants come from {len(df_endo['country'].unique()) - 1} distinct countries.\"\n",
    ")  # - 1 because of None"
   ]
  },
  {
   "cell_type": "markdown",
   "metadata": {},
   "source": [
    "### 🌍 Ethnicity Distribution"
   ]
  },
  {
   "cell_type": "code",
   "execution_count": 30,
   "metadata": {},
   "outputs": [
    {
     "name": "stdout",
     "output_type": "stream",
     "text": [
      "has_endometriosis                                     0    1  All\n",
      "ethnicity                                                        \n",
      "All                                                 323  229  552\n",
      "White                                               274  181  455\n",
      "Asian or Asian British                               15    8   23\n",
      "Black, Black British, Caribbean or African            9   11   20\n",
      "Mixed or multiple ethnic groups                      12    8   20\n",
      "Hispanic                                              0    3    3\n",
      "Mixed or multiple ethnic groups, White                0    2    2\n",
      "South Asian                                           2    0    2\n",
      "Black, Black British, Caribbean or African, White     1    1    2\n",
      "Pashtun (Pakistan)                                    1    0    1\n",
      "South Asian Indian                                    0    1    1\n",
      "West Asian                                            1    0    1\n",
      "White, Hispanic                                       0    1    1\n",
      "White, Hispanic                                       1    0    1\n",
      "Mixed or multiple ethnic groups;Caucasian (Fren...    0    1    1\n",
      "White, Italian                                        0    1    1\n",
      "White, Native                                         0    1    1\n",
      "White;Latina                                          0    1    1\n",
      "north african                                         0    1    1\n",
      "Native american                                       1    0    1\n",
      "Afghan                                                1    0    1\n",
      "Mixed or multiple ethnic groups, White, Arab          0    1    1\n",
      "Alaska Native                                         1    0    1\n",
      "Mixed or multiple ethnic groups,                      0    1    1\n",
      "Middle Eastern                                        1    0    1\n",
      "Mexican                                               0    1    1\n",
      "Latino                                                1    0    1\n",
      "Latina                                                1    0    1\n",
      "Hispanic/Latina                                       0    1    1\n",
      "Black, Black British, Caribbean or African, Mix...    0    1    1\n",
      "Asian or Asian British;Mixed or multiple ethnic...    0    1    1\n",
      "Asian or Asian British, Mixed or multiple ethni...    1    0    1\n",
      "Arab                                                  0    1    1\n",
      "Mixed or multiple ethnic groups, Metis (Cree, S...    0    1    1\n"
     ]
    }
   ],
   "source": [
    "table = pd.crosstab(\n",
    "    df_endo[\"ethnicity\"], df_endo[\"has_endometriosis\"], margins=True\n",
    ").sort_values(by=\"All\", ascending=False)\n",
    "\n",
    "print(table)"
   ]
  },
  {
   "cell_type": "markdown",
   "metadata": {},
   "source": [
    "### 📏 BMI Distribution"
   ]
  },
  {
   "cell_type": "code",
   "execution_count": 31,
   "metadata": {},
   "outputs": [
    {
     "name": "stdout",
     "output_type": "stream",
     "text": [
      "BMI category of Healthy Weight for women with endometriosis: 97 (42.4%), without endometriosis: 153 (47.4%).\n",
      "BMI category of Overweight for women with endometriosis: 57 (24.9%), without endometriosis: 67 (20.7%).\n",
      "BMI category of Class 3 Obesity for women with endometriosis: 12 (5.2%), without endometriosis: 25 (7.7%).\n",
      "BMI category of Underweight for women with endometriosis: 26 (11.4%), without endometriosis: 25 (7.7%).\n",
      "BMI category of Class 2 Obesity for women with endometriosis: 14 (6.1%), without endometriosis: 16 (5.0%).\n",
      "BMI category of Class 1 Obesity for women with endometriosis: 23 (10.0%), without endometriosis: 37 (11.5%).\n"
     ]
    }
   ],
   "source": [
    "for i in df_endo[\"bmi_category\"].unique():\n",
    "    text = f\"BMI category of {i} for women\"\n",
    "    experiments_utils.print_stats(endo_df, no_endo_df, text, \"bmi_category\", cat=i)"
   ]
  },
  {
   "cell_type": "code",
   "execution_count": 108,
   "metadata": {},
   "outputs": [
    {
     "name": "stdout",
     "output_type": "stream",
     "text": [
      "Mean BMI values: 25.33; Median BMI values: 23.84\n"
     ]
    }
   ],
   "source": [
    "print(\n",
    "    f\"Mean BMI values: {df_endo['BMI'].mean():.2f}; Median BMI values: {df_endo['BMI'].median():.2f}\"\n",
    ")"
   ]
  },
  {
   "cell_type": "markdown",
   "metadata": {},
   "source": [
    "### 🤰 Pregnancy"
   ]
  },
  {
   "cell_type": "code",
   "execution_count": 109,
   "metadata": {},
   "outputs": [
    {
     "name": "stdout",
     "output_type": "stream",
     "text": [
      "Pregnant with endometriosis: 76.0 (33.2%), without endometriosis: 81.0 (25.1%).\n"
     ]
    }
   ],
   "source": [
    "experiments_utils.print_stats(endo_df, no_endo_df, \"Pregnant\", \"was_pregnant\")"
   ]
  },
  {
   "cell_type": "markdown",
   "metadata": {},
   "source": [
    "### Infertility"
   ]
  },
  {
   "cell_type": "code",
   "execution_count": 34,
   "metadata": {},
   "outputs": [
    {
     "name": "stdout",
     "output_type": "stream",
     "text": [
      "Experienced infertility with endometriosis: 71.0 (31.0%), without endometriosis: 34.0 (10.5%).\n"
     ]
    }
   ],
   "source": [
    "experiments_utils.print_stats(\n",
    "    endo_df, no_endo_df, \"Experienced infertility\", \"experienced_infertility\"\n",
    ")"
   ]
  },
  {
   "cell_type": "code",
   "execution_count": null,
   "metadata": {},
   "outputs": [
    {
     "name": "stdout",
     "output_type": "stream",
     "text": [
      "experienced_infertility  0.0  1.0  All\n",
      "age_group                             \n",
      "All                      443  105  548\n",
      "25-34                    184   33  217\n",
      "35-44                     91   50  141\n",
      "18-24                    117   12  129\n",
      "45-54                     21   10   31\n",
      "Under 18                  26    0   26\n",
      "Unknown                    4    0    4\n"
     ]
    }
   ],
   "source": [
    "# distribution of infertility experience by age groups\n",
    "table = pd.crosstab(\n",
    "    df_endo[\"age_group\"], df_endo[\"experienced_infertility\"], margins=True\n",
    ").sort_values(by=\"All\", ascending=False)\n",
    "print(table)"
   ]
  },
  {
   "cell_type": "markdown",
   "metadata": {},
   "source": [
    "### Thyroid disorders"
   ]
  },
  {
   "cell_type": "code",
   "execution_count": 37,
   "metadata": {},
   "outputs": [
    {
     "name": "stdout",
     "output_type": "stream",
     "text": [
      "Has thyroid disorders with endometriosis: 28.0 (12.2%), without endometriosis: 28.0 (8.7%).\n"
     ]
    }
   ],
   "source": [
    "experiments_utils.print_stats(\n",
    "    endo_df, no_endo_df, \"Has thyroid disorders\", \"has_thyroid_disorder\"\n",
    ")"
   ]
  },
  {
   "cell_type": "markdown",
   "metadata": {},
   "source": [
    "### Anemia"
   ]
  },
  {
   "cell_type": "code",
   "execution_count": 38,
   "metadata": {},
   "outputs": [
    {
     "name": "stdout",
     "output_type": "stream",
     "text": [
      "Has anemia with endometriosis: 81 (35.4%), without endometriosis: 84 (26.0%).\n"
     ]
    }
   ],
   "source": [
    "experiments_utils.print_stats(endo_df, no_endo_df, \"Has anemia\", \"has_anemia\")"
   ]
  },
  {
   "cell_type": "markdown",
   "metadata": {},
   "source": [
    "### 💊 Hormonal Contraceptives"
   ]
  },
  {
   "cell_type": "code",
   "execution_count": 40,
   "metadata": {},
   "outputs": [
    {
     "name": "stdout",
     "output_type": "stream",
     "text": [
      "Use hormonal contraception with endometriosis: 37 (16.2%), without endometriosis: 57 (17.6%).\n"
     ]
    }
   ],
   "source": [
    "experiments_utils.print_stats(\n",
    "    endo_df,\n",
    "    no_endo_df,\n",
    "    \"Use hormonal contraception\",\n",
    "    \"takes_hormones_only_for_contracep\",\n",
    ")"
   ]
  },
  {
   "cell_type": "code",
   "execution_count": 112,
   "metadata": {},
   "outputs": [
    {
     "name": "stdout",
     "output_type": "stream",
     "text": [
      "17.03% of all participants use hormonal contraception\n"
     ]
    }
   ],
   "source": [
    "print(\n",
    "    f\"{(df_endo['takes_hormones_only_for_contracep'].sum() / len(df_endo) * 100):.2f}% of all participants use hormonal contraception\"\n",
    ")"
   ]
  },
  {
   "cell_type": "code",
   "execution_count": 42,
   "metadata": {},
   "outputs": [
    {
     "name": "stdout",
     "output_type": "stream",
     "text": [
      "Use hormonal medication for pain relief with endometriosis: 101 (44.1%), without endometriosis: 50 (15.5%).\n"
     ]
    }
   ],
   "source": [
    "experiments_utils.print_stats(\n",
    "    endo_df,\n",
    "    no_endo_df,\n",
    "    \"Use hormonal medication for pain relief\",\n",
    "    \"takes_hormones_for_pain\",\n",
    ")"
   ]
  },
  {
   "cell_type": "markdown",
   "metadata": {},
   "source": [
    "### Fibroids"
   ]
  },
  {
   "cell_type": "code",
   "execution_count": 43,
   "metadata": {},
   "outputs": [
    {
     "name": "stdout",
     "output_type": "stream",
     "text": [
      "Has fibroids with endometriosis: 50 (21.8%), without endometriosis: 48 (14.9%).\n"
     ]
    }
   ],
   "source": [
    "experiments_utils.print_stats(endo_df, no_endo_df, \"Has fibroids\", \"has_fibroids\")"
   ]
  },
  {
   "cell_type": "markdown",
   "metadata": {},
   "source": [
    "## ❓ Symptoms"
   ]
  },
  {
   "cell_type": "markdown",
   "metadata": {},
   "source": [
    "### Pelvic Pain"
   ]
  },
  {
   "cell_type": "code",
   "execution_count": 44,
   "metadata": {},
   "outputs": [
    {
     "name": "stdout",
     "output_type": "stream",
     "text": [
      "Experiences pelvic pain before period with endometriosis: 177 (77.3%), without endometriosis: 182 (56.3%).\n"
     ]
    }
   ],
   "source": [
    "experiments_utils.print_stats(\n",
    "    endo_df,\n",
    "    no_endo_df,\n",
    "    \"Experiences pelvic pain before period\",\n",
    "    \"pelvic_pain_before_period\",\n",
    ")"
   ]
  },
  {
   "cell_type": "code",
   "execution_count": 45,
   "metadata": {},
   "outputs": [
    {
     "name": "stdout",
     "output_type": "stream",
     "text": [
      "Experiences pelvic pain after period with endometriosis: 124 (54.1%), without endometriosis: 62 (19.2%).\n"
     ]
    }
   ],
   "source": [
    "experiments_utils.print_stats(\n",
    "    endo_df,\n",
    "    no_endo_df,\n",
    "    \"Experiences pelvic pain after period\",\n",
    "    \"pelvic_pain_after_period\",\n",
    ")"
   ]
  },
  {
   "cell_type": "code",
   "execution_count": 48,
   "metadata": {},
   "outputs": [
    {
     "name": "stdout",
     "output_type": "stream",
     "text": [
      "Does not experience pelvic pain during period with endometriosis: 7 (3.1%), without endometriosis: 26 (8.0%).\n",
      "Experiences pelvic pain Less than 1 day with endometriosis: 2 (0.9%), without endometriosis: 24 (7.4%).\n",
      "Experiences pelvic pain 1-2 days with endometriosis: 34 (14.8%), without endometriosis: 126 (39.0%).\n",
      "Experiences pelvic pain 3–4 days with endometriosis: 59 (25.8%), without endometriosis: 88 (27.2%).\n",
      "Experiences pelvic pain 5 or more days with endometriosis: 124 (54.1%), without endometriosis: 58 (18.0%).\n"
     ]
    }
   ],
   "source": [
    "for i in PELVIC_PAIN_DURATION_CATEGORIES.values():\n",
    "    text = (\n",
    "        f\"Experiences pelvic pain {i}\"\n",
    "        if i != \"I do not experience pelvic pain during my period\"\n",
    "        else \"Does not experience pelvic pain during period\"\n",
    "    )\n",
    "    experiments_utils.print_stats(\n",
    "        endo_df, no_endo_df, text, \"pelvic_pain_days_during_period\", cat=i\n",
    "    )"
   ]
  },
  {
   "cell_type": "code",
   "execution_count": 49,
   "metadata": {},
   "outputs": [
    {
     "name": "stdout",
     "output_type": "stream",
     "text": [
      "Experiences pelvic pain between periods as often as never with endometriosis: 5 (2.2%), without endometriosis: 73 (22.6%).\n",
      "Experiences pelvic pain between periods as often as rarely with endometriosis: 15 (6.6%), without endometriosis: 96 (29.7%).\n",
      "Experiences pelvic pain between periods as often as sometimes with endometriosis: 50 (21.8%), without endometriosis: 77 (23.8%).\n",
      "Experiences pelvic pain between periods as often as often with endometriosis: 80 (34.9%), without endometriosis: 56 (17.3%).\n",
      "Experiences pelvic pain between periods as often as always with endometriosis: 79 (34.5%), without endometriosis: 20 (6.2%).\n"
     ]
    }
   ],
   "source": [
    "for i in pain_frequency_map.values():\n",
    "    text = f\"Experiences pelvic pain between periods as often as {i.lower()}\"\n",
    "    experiments_utils.print_stats(\n",
    "        endo_df, no_endo_df, text, \"pelvic_pain_frequency_between_periods\", cat=i\n",
    "    )"
   ]
  },
  {
   "cell_type": "code",
   "execution_count": 50,
   "metadata": {},
   "outputs": [
    {
     "name": "stdout",
     "output_type": "stream",
     "text": [
      "Overall average pelvic pain scored at 0 for women with endometriosis: 5 (2.2%), without endometriosis: 34 (10.5%).\n",
      "Overall average pelvic pain scored at 1 for women with endometriosis: 14 (6.1%), without endometriosis: 32 (9.9%).\n",
      "Overall average pelvic pain scored at 2 for women with endometriosis: 11 (4.8%), without endometriosis: 47 (14.6%).\n",
      "Overall average pelvic pain scored at 3 for women with endometriosis: 34 (14.8%), without endometriosis: 62 (19.2%).\n",
      "Overall average pelvic pain scored at 4 for women with endometriosis: 50 (21.8%), without endometriosis: 70 (21.7%).\n",
      "Overall average pelvic pain scored at 5 for women with endometriosis: 47 (20.5%), without endometriosis: 44 (13.6%).\n",
      "Overall average pelvic pain scored at 6 for women with endometriosis: 38 (16.6%), without endometriosis: 17 (5.3%).\n",
      "Overall average pelvic pain scored at 7 for women with endometriosis: 13 (5.7%), without endometriosis: 10 (3.1%).\n",
      "Overall average pelvic pain scored at 8 for women with endometriosis: 10 (4.4%), without endometriosis: 3 (0.9%).\n",
      "Overall average pelvic pain scored at 9 for women with endometriosis: 7 (3.1%), without endometriosis: 1 (0.3%).\n"
     ]
    }
   ],
   "source": [
    "for i in range(0, 10):\n",
    "    text = f\"Overall average pelvic pain scored at {i} for women\"\n",
    "    experiments_utils.print_stats(\n",
    "        endo_df, no_endo_df, text, \"pelvic_pain_average\", cat=f\"{i}\"\n",
    "    )"
   ]
  },
  {
   "cell_type": "code",
   "execution_count": 114,
   "metadata": {},
   "outputs": [
    {
     "name": "stdout",
     "output_type": "stream",
     "text": [
      "Mean average pelvic pain scores: 4.52; Median average pelvic pain scores: 5.00\n"
     ]
    }
   ],
   "source": [
    "print(\n",
    "    f\"Mean average pelvic pain scores: {endo_df['pelvic_pain_average'].mean():.2f}; Median average pelvic pain scores: {endo_df['pelvic_pain_average'].median():.2f}\"\n",
    ")"
   ]
  },
  {
   "cell_type": "code",
   "execution_count": 52,
   "metadata": {},
   "outputs": [
    {
     "name": "stdout",
     "output_type": "stream",
     "text": [
      "Overall worst pelvic pain scored at 0 for women with endometriosis: 3 (1.3%), without endometriosis: 22 (6.8%).\n",
      "Overall worst pelvic pain scored at 1 for women with endometriosis: 0 (0.0%), without endometriosis: 5 (1.5%).\n",
      "Overall worst pelvic pain scored at 2 for women with endometriosis: 3 (1.3%), without endometriosis: 18 (5.6%).\n",
      "Overall worst pelvic pain scored at 3 for women with endometriosis: 5 (2.2%), without endometriosis: 18 (5.6%).\n",
      "Overall worst pelvic pain scored at 4 for women with endometriosis: 4 (1.7%), without endometriosis: 22 (6.8%).\n",
      "Overall worst pelvic pain scored at 5 for women with endometriosis: 7 (3.1%), without endometriosis: 42 (13.0%).\n",
      "Overall worst pelvic pain scored at 6 for women with endometriosis: 27 (11.8%), without endometriosis: 72 (22.3%).\n",
      "Overall worst pelvic pain scored at 7 for women with endometriosis: 60 (26.2%), without endometriosis: 71 (22.0%).\n",
      "Overall worst pelvic pain scored at 8 for women with endometriosis: 54 (23.6%), without endometriosis: 34 (10.5%).\n",
      "Overall worst pelvic pain scored at 9 for women with endometriosis: 66 (28.8%), without endometriosis: 17 (5.3%).\n"
     ]
    }
   ],
   "source": [
    "for i in range(0, 10):\n",
    "    text = f\"Overall worst pelvic pain scored at {i} for women\"\n",
    "    experiments_utils.print_stats(endo_df, no_endo_df, text, \"pelvic_pain_worst\", cat=i)"
   ]
  },
  {
   "cell_type": "code",
   "execution_count": 115,
   "metadata": {},
   "outputs": [
    {
     "name": "stdout",
     "output_type": "stream",
     "text": [
      "Mean worst pelvic pain scores: 7.34; Median worst pelvic pain scores: 8.00\n"
     ]
    }
   ],
   "source": [
    "print(\n",
    "    f\"Mean worst pelvic pain scores: {endo_df['pelvic_pain_worst'].mean():.2f}; Median worst pelvic pain scores: {endo_df['pelvic_pain_worst'].median():.2f}\"\n",
    ")"
   ]
  },
  {
   "cell_type": "markdown",
   "metadata": {},
   "source": [
    "### Lower Back Pain"
   ]
  },
  {
   "cell_type": "code",
   "execution_count": 54,
   "metadata": {},
   "outputs": [
    {
     "name": "stdout",
     "output_type": "stream",
     "text": [
      "Experiences lower back pain before period with endometriosis: 138 (60.3%), without endometriosis: 134 (41.5%).\n"
     ]
    }
   ],
   "source": [
    "experiments_utils.print_stats(\n",
    "    endo_df,\n",
    "    no_endo_df,\n",
    "    \"Experiences lower back pain before period\",\n",
    "    \"lower_back_pain_before_period\",\n",
    ")"
   ]
  },
  {
   "cell_type": "code",
   "execution_count": 55,
   "metadata": {},
   "outputs": [
    {
     "name": "stdout",
     "output_type": "stream",
     "text": [
      "Experiences lower back pain after period with endometriosis: 88 (38.4%), without endometriosis: 62 (19.2%).\n"
     ]
    }
   ],
   "source": [
    "(\n",
    "    df_endo[df_endo[\"has_endometriosis\"] == 1][\"lower_back_pain_after_period\"].sum(),\n",
    "    df_endo[df_endo[\"has_endometriosis\"] == 0][\"lower_back_pain_after_period\"].sum(),\n",
    ")\n",
    "experiments_utils.print_stats(\n",
    "    endo_df,\n",
    "    no_endo_df,\n",
    "    \"Experiences lower back pain after period\",\n",
    "    \"lower_back_pain_after_period\",\n",
    ")"
   ]
  },
  {
   "cell_type": "code",
   "execution_count": 56,
   "metadata": {},
   "outputs": [
    {
     "name": "stdout",
     "output_type": "stream",
     "text": [
      "Experiences lower back pain I do not experience lower pain during my period with endometriosis: 24 (10.5%), without endometriosis: 83 (25.7%).\n",
      "Experiences lower back pain Less than 1 day with endometriosis: 13 (5.7%), without endometriosis: 32 (9.9%).\n",
      "Experiences lower back pain 1-2 days with endometriosis: 43 (18.8%), without endometriosis: 104 (32.2%).\n",
      "Experiences lower back pain 3–4 days with endometriosis: 53 (23.1%), without endometriosis: 55 (17.0%).\n",
      "Experiences lower back pain 5 or more days with endometriosis: 92 (40.2%), without endometriosis: 48 (14.9%).\n"
     ]
    }
   ],
   "source": [
    "for i in LOWER_BACK_PAIN_DURATION_CATEGORIES.values():\n",
    "    text = (\n",
    "        f\"Experiences lower back pain {i}\"\n",
    "        if i != \"I do not experience pelvic pain during my period\"\n",
    "        else \"Does not experience pelvic pain during period\"\n",
    "    )\n",
    "    experiments_utils.print_stats(\n",
    "        endo_df, no_endo_df, text, \"lower_back_pain_days_during_period\", cat=i\n",
    "    )"
   ]
  },
  {
   "cell_type": "code",
   "execution_count": 57,
   "metadata": {},
   "outputs": [
    {
     "name": "stdout",
     "output_type": "stream",
     "text": [
      "Experiences lower back pain between periods as often as never with endometriosis: 23 (10.0%), without endometriosis: 94 (29.1%).\n",
      "Experiences lower back pain between periods as often as rarely with endometriosis: 36 (15.7%), without endometriosis: 88 (27.2%).\n",
      "Experiences lower back pain between periods as often as sometimes with endometriosis: 60 (26.2%), without endometriosis: 73 (22.6%).\n",
      "Experiences lower back pain between periods as often as often with endometriosis: 56 (24.5%), without endometriosis: 45 (13.9%).\n",
      "Experiences lower back pain between periods as often as always with endometriosis: 54 (23.6%), without endometriosis: 22 (6.8%).\n"
     ]
    }
   ],
   "source": [
    "for i in pain_frequency_map.values():\n",
    "    text = f\"Experiences lower back pain between periods as often as {i.lower()}\"\n",
    "    experiments_utils.print_stats(\n",
    "        endo_df, no_endo_df, text, \"lower_back_pain_frequency_between_periods\", cat=i\n",
    "    )"
   ]
  },
  {
   "cell_type": "code",
   "execution_count": 58,
   "metadata": {},
   "outputs": [
    {
     "name": "stdout",
     "output_type": "stream",
     "text": [
      "Overall average lower back pain scored at 0 for women with endometriosis: 25 (10.9%), without endometriosis: 72 (22.3%).\n",
      "Overall average lower back pain scored at 1 for women with endometriosis: 36 (15.7%), without endometriosis: 69 (21.4%).\n",
      "Overall average lower back pain scored at 2 for women with endometriosis: 34 (14.8%), without endometriosis: 70 (21.7%).\n",
      "Overall average lower back pain scored at 3 for women with endometriosis: 34 (14.8%), without endometriosis: 44 (13.6%).\n",
      "Overall average lower back pain scored at 4 for women with endometriosis: 33 (14.4%), without endometriosis: 28 (8.7%).\n",
      "Overall average lower back pain scored at 5 for women with endometriosis: 27 (11.8%), without endometriosis: 18 (5.6%).\n",
      "Overall average lower back pain scored at 6 for women with endometriosis: 17 (7.4%), without endometriosis: 7 (2.2%).\n",
      "Overall average lower back pain scored at 7 for women with endometriosis: 12 (5.2%), without endometriosis: 5 (1.5%).\n",
      "Overall average lower back pain scored at 8 for women with endometriosis: 3 (1.3%), without endometriosis: 1 (0.3%).\n",
      "Overall average lower back pain scored at 9 for women with endometriosis: 5 (2.2%), without endometriosis: 1 (0.3%).\n"
     ]
    }
   ],
   "source": [
    "for i in range(0, 10):\n",
    "    text = f\"Overall average lower back pain scored at {i} for women\"\n",
    "    experiments_utils.print_stats(\n",
    "        endo_df, no_endo_df, text, \"lower_back_pain_average\", cat=i\n",
    "    )"
   ]
  },
  {
   "cell_type": "code",
   "execution_count": 116,
   "metadata": {},
   "outputs": [
    {
     "name": "stdout",
     "output_type": "stream",
     "text": [
      "Mean average lower back pain scores: 3.22; Median average lower back pain scores: 3.00\n"
     ]
    }
   ],
   "source": [
    "print(\n",
    "    f\"Mean average lower back pain scores: {endo_df['lower_back_pain_average'].mean():.2f}; Median average lower back pain scores: {endo_df['lower_back_pain_average'].median():.2f}\"\n",
    ")"
   ]
  },
  {
   "cell_type": "code",
   "execution_count": 60,
   "metadata": {},
   "outputs": [
    {
     "name": "stdout",
     "output_type": "stream",
     "text": [
      "Overall worst lower back pain scored at 0 for women with endometriosis: 14 (6.1%), without endometriosis: 53 (16.4%).\n",
      "Overall worst lower back pain scored at 1 for women with endometriosis: 10 (4.4%), without endometriosis: 18 (5.6%).\n",
      "Overall worst lower back pain scored at 2 for women with endometriosis: 11 (4.8%), without endometriosis: 30 (9.3%).\n",
      "Overall worst lower back pain scored at 3 for women with endometriosis: 20 (8.7%), without endometriosis: 52 (16.1%).\n",
      "Overall worst lower back pain scored at 4 for women with endometriosis: 26 (11.4%), without endometriosis: 42 (13.0%).\n",
      "Overall worst lower back pain scored at 5 for women with endometriosis: 30 (13.1%), without endometriosis: 45 (13.9%).\n",
      "Overall worst lower back pain scored at 6 for women with endometriosis: 37 (16.2%), without endometriosis: 32 (9.9%).\n",
      "Overall worst lower back pain scored at 7 for women with endometriosis: 38 (16.6%), without endometriosis: 30 (9.3%).\n",
      "Overall worst lower back pain scored at 8 for women with endometriosis: 14 (6.1%), without endometriosis: 10 (3.1%).\n",
      "Overall worst lower back pain scored at 9 for women with endometriosis: 27 (11.8%), without endometriosis: 3 (0.9%).\n"
     ]
    }
   ],
   "source": [
    "for i in range(0, 10):\n",
    "    text = f\"Overall worst lower back pain scored at {i} for women\"\n",
    "    experiments_utils.print_stats(\n",
    "        endo_df, no_endo_df, text, \"lower_back_pain_worst\", cat=i\n",
    "    )"
   ]
  },
  {
   "cell_type": "code",
   "execution_count": 117,
   "metadata": {},
   "outputs": [
    {
     "name": "stdout",
     "output_type": "stream",
     "text": [
      "Mean worst lower back pain scores: 5.24; Median worst lower back pain scores: 6.00\n"
     ]
    }
   ],
   "source": [
    "print(\n",
    "    f\"Mean worst lower back pain scores: {endo_df['lower_back_pain_worst'].mean():.2f}; Median worst lower back pain scores: {endo_df['lower_back_pain_worst'].median():.2f}\"\n",
    ")"
   ]
  },
  {
   "cell_type": "markdown",
   "metadata": {},
   "source": [
    "### Headache"
   ]
  },
  {
   "cell_type": "code",
   "execution_count": 62,
   "metadata": {},
   "outputs": [
    {
     "name": "stdout",
     "output_type": "stream",
     "text": [
      "Experience headache before period with endometriosis: 101 (44.1%), without endometriosis: 104 (32.2%).\n"
     ]
    }
   ],
   "source": [
    "experiments_utils.print_stats(\n",
    "    endo_df, no_endo_df, \"Experience headache before period\", \"headache_before_period\"\n",
    ")"
   ]
  },
  {
   "cell_type": "code",
   "execution_count": 63,
   "metadata": {},
   "outputs": [
    {
     "name": "stdout",
     "output_type": "stream",
     "text": [
      "Experience headache after period with endometriosis: 60 (26.2%), without endometriosis: 54 (16.7%).\n"
     ]
    }
   ],
   "source": [
    "experiments_utils.print_stats(\n",
    "    endo_df, no_endo_df, \"Experience headache after period\", \"headache_after_period\"\n",
    ")"
   ]
  },
  {
   "cell_type": "code",
   "execution_count": 64,
   "metadata": {},
   "outputs": [
    {
     "name": "stdout",
     "output_type": "stream",
     "text": [
      "Does not experience headache during period with endometriosis: 53 (23.1%), without endometriosis: 110 (34.1%).\n",
      "Experiences headache Less than 1 day with endometriosis: 27 (11.8%), without endometriosis: 67 (20.7%).\n",
      "Experiences headache 1-2 days with endometriosis: 87 (38.0%), without endometriosis: 79 (24.5%).\n",
      "Experiences headache 3–4 days with endometriosis: 32 (14.0%), without endometriosis: 34 (10.5%).\n",
      "Experiences headache 5 or more days with endometriosis: 28 (12.2%), without endometriosis: 32 (9.9%).\n"
     ]
    }
   ],
   "source": [
    "for i in HEADACHE_DURATION_CATEGORIES.values():\n",
    "    text = (\n",
    "        f\"Experiences headache {i}\"\n",
    "        if i != \"I do not experience headaches during my period\"\n",
    "        else \"Does not experience headache during period\"\n",
    "    )\n",
    "    experiments_utils.print_stats(\n",
    "        endo_df, no_endo_df, text, \"headache_days_during_period\", cat=i\n",
    "    )"
   ]
  },
  {
   "cell_type": "code",
   "execution_count": 65,
   "metadata": {},
   "outputs": [
    {
     "name": "stdout",
     "output_type": "stream",
     "text": [
      "Experiences headache between periods as often as never with endometriosis: 20 (8.7%), without endometriosis: 47 (14.6%).\n",
      "Experiences headache between periods as often as rarely with endometriosis: 60 (26.2%), without endometriosis: 76 (23.5%).\n",
      "Experiences headache between periods as often as sometimes with endometriosis: 90 (39.3%), without endometriosis: 113 (35.0%).\n",
      "Experiences headache between periods as often as often with endometriosis: 43 (18.8%), without endometriosis: 70 (21.7%).\n",
      "Experiences headache between periods as often as always with endometriosis: 16 (7.0%), without endometriosis: 16 (5.0%).\n"
     ]
    }
   ],
   "source": [
    "for i in pain_frequency_map.values():\n",
    "    text = f\"Experiences headache between periods as often as {i.lower()}\"\n",
    "    experiments_utils.print_stats(\n",
    "        endo_df, no_endo_df, text, \"headache_frequency_between_periods\", cat=i\n",
    "    )"
   ]
  },
  {
   "cell_type": "code",
   "execution_count": 66,
   "metadata": {},
   "outputs": [
    {
     "name": "stdout",
     "output_type": "stream",
     "text": [
      "Overall average headache scored at 0 for women with endometriosis: 37 (16.2%), without endometriosis: 63 (19.5%).\n",
      "Overall average headache scored at 1 for women with endometriosis: 31 (13.5%), without endometriosis: 53 (16.4%).\n",
      "Overall average headache scored at 2 for women with endometriosis: 46 (20.1%), without endometriosis: 56 (17.3%).\n",
      "Overall average headache scored at 3 for women with endometriosis: 23 (10.0%), without endometriosis: 58 (18.0%).\n",
      "Overall average headache scored at 4 for women with endometriosis: 41 (17.9%), without endometriosis: 44 (13.6%).\n",
      "Overall average headache scored at 5 for women with endometriosis: 17 (7.4%), without endometriosis: 24 (7.4%).\n",
      "Overall average headache scored at 6 for women with endometriosis: 16 (7.0%), without endometriosis: 14 (4.3%).\n",
      "Overall average headache scored at 7 for women with endometriosis: 8 (3.5%), without endometriosis: 4 (1.2%).\n",
      "Overall average headache scored at 8 for women with endometriosis: 2 (0.9%), without endometriosis: 0 (0.0%).\n",
      "Overall average headache scored at 9 for women with endometriosis: 3 (1.3%), without endometriosis: 0 (0.0%).\n"
     ]
    }
   ],
   "source": [
    "for i in range(0, 10):\n",
    "    text = f\"Overall average headache scored at {i} for women\"\n",
    "    experiments_utils.print_stats(endo_df, no_endo_df, text, \"headache_average\", cat=i)"
   ]
  },
  {
   "cell_type": "code",
   "execution_count": 119,
   "metadata": {},
   "outputs": [
    {
     "name": "stdout",
     "output_type": "stream",
     "text": [
      "Mean average headache scores: 2.84; Median average headache pain scores: 2.00\n"
     ]
    }
   ],
   "source": [
    "print(\n",
    "    f\"Mean average headache scores: {endo_df['headache_average'].mean():.2f}; Median average headache pain scores: {endo_df['headache_average'].median():.2f}\"\n",
    ")"
   ]
  },
  {
   "cell_type": "code",
   "execution_count": 68,
   "metadata": {},
   "outputs": [
    {
     "name": "stdout",
     "output_type": "stream",
     "text": [
      "Overall worst headache scored at 0 for women with endometriosis: 18 (7.9%), without endometriosis: 39 (12.1%).\n",
      "Overall worst headache scored at 1 for women with endometriosis: 7 (3.1%), without endometriosis: 8 (2.5%).\n",
      "Overall worst headache scored at 2 for women with endometriosis: 24 (10.5%), without endometriosis: 24 (7.4%).\n",
      "Overall worst headache scored at 3 for women with endometriosis: 21 (9.2%), without endometriosis: 45 (13.9%).\n",
      "Overall worst headache scored at 4 for women with endometriosis: 35 (15.3%), without endometriosis: 35 (10.8%).\n",
      "Overall worst headache scored at 5 for women with endometriosis: 27 (11.8%), without endometriosis: 47 (14.6%).\n",
      "Overall worst headache scored at 6 for women with endometriosis: 31 (13.5%), without endometriosis: 51 (15.8%).\n",
      "Overall worst headache scored at 7 for women with endometriosis: 24 (10.5%), without endometriosis: 33 (10.2%).\n",
      "Overall worst headache scored at 8 for women with endometriosis: 20 (8.7%), without endometriosis: 24 (7.4%).\n",
      "Overall worst headache scored at 9 for women with endometriosis: 19 (8.3%), without endometriosis: 9 (2.8%).\n"
     ]
    }
   ],
   "source": [
    "for i in range(0, 10):\n",
    "    text = f\"Overall worst headache scored at {i} for women\"\n",
    "    experiments_utils.print_stats(endo_df, no_endo_df, text, \"headache_worst\", cat=i)"
   ]
  },
  {
   "cell_type": "code",
   "execution_count": 118,
   "metadata": {},
   "outputs": [
    {
     "name": "stdout",
     "output_type": "stream",
     "text": [
      "Mean worst headache scores: 4.77; Median worst headache pain scores: 5.00\n"
     ]
    }
   ],
   "source": [
    "print(\n",
    "    f\"Mean worst headache scores: {endo_df['headache_worst'].mean():.2f}; Median worst headache pain scores: {endo_df['headache_worst'].median():.2f}\"\n",
    ")"
   ]
  },
  {
   "cell_type": "markdown",
   "metadata": {},
   "source": [
    "### Bloating"
   ]
  },
  {
   "cell_type": "code",
   "execution_count": 70,
   "metadata": {},
   "outputs": [
    {
     "name": "stdout",
     "output_type": "stream",
     "text": [
      "Experiences bloating during period as often as never with endometriosis: 7 (3.1%), without endometriosis: 23 (7.1%).\n",
      "Experiences bloating during period as often as rarely with endometriosis: 7 (3.1%), without endometriosis: 27 (8.4%).\n",
      "Experiences bloating during period as often as sometimes with endometriosis: 24 (10.5%), without endometriosis: 73 (22.6%).\n",
      "Experiences bloating during period as often as often with endometriosis: 61 (26.6%), without endometriosis: 93 (28.8%).\n",
      "Experiences bloating during period as often as always with endometriosis: 127 (55.5%), without endometriosis: 107 (33.1%).\n"
     ]
    }
   ],
   "source": [
    "for i in pain_frequency_map.values():\n",
    "    text = f\"Experiences bloating during period as often as {i.lower()}\"\n",
    "    experiments_utils.print_stats(\n",
    "        endo_df, no_endo_df, text, \"bloating_during_period\", cat=i\n",
    "    )"
   ]
  },
  {
   "cell_type": "code",
   "execution_count": 71,
   "metadata": {},
   "outputs": [
    {
     "name": "stdout",
     "output_type": "stream",
     "text": [
      "Experiences bloating between periods as often as never with endometriosis: 8 (3.5%), without endometriosis: 54 (16.7%).\n",
      "Experiences bloating between periods as often as rarely with endometriosis: 19 (8.3%), without endometriosis: 81 (25.1%).\n",
      "Experiences bloating between periods as often as sometimes with endometriosis: 67 (29.3%), without endometriosis: 91 (28.2%).\n",
      "Experiences bloating between periods as often as often with endometriosis: 85 (37.1%), without endometriosis: 65 (20.1%).\n",
      "Experiences bloating between periods as often as always with endometriosis: 49 (21.4%), without endometriosis: 31 (9.6%).\n"
     ]
    }
   ],
   "source": [
    "for i in pain_frequency_map.values():\n",
    "    text = f\"Experiences bloating between periods as often as {i.lower()}\"\n",
    "    experiments_utils.print_stats(\n",
    "        endo_df, no_endo_df, text, \"bloating_between_periods\", cat=i\n",
    "    )"
   ]
  },
  {
   "cell_type": "markdown",
   "metadata": {},
   "source": [
    "### Pain in legs/hips"
   ]
  },
  {
   "cell_type": "code",
   "execution_count": 72,
   "metadata": {},
   "outputs": [
    {
     "name": "stdout",
     "output_type": "stream",
     "text": [
      "Experiences pain in legs or hips during period as often as never with endometriosis: 21 (9.2%), without endometriosis: 85 (26.3%).\n",
      "Experiences pain in legs or hips during period as often as rarely with endometriosis: 18 (7.9%), without endometriosis: 43 (13.3%).\n",
      "Experiences pain in legs or hips during period as often as sometimes with endometriosis: 36 (15.7%), without endometriosis: 58 (18.0%).\n",
      "Experiences pain in legs or hips during period as often as often with endometriosis: 57 (24.9%), without endometriosis: 66 (20.4%).\n",
      "Experiences pain in legs or hips during period as often as always with endometriosis: 94 (41.0%), without endometriosis: 69 (21.4%).\n"
     ]
    }
   ],
   "source": [
    "for i in pain_frequency_map.values():\n",
    "    text = f\"Experiences pain in legs or hips during period as often as {i.lower()}\"\n",
    "    experiments_utils.print_stats(\n",
    "        endo_df, no_endo_df, text, \"pain_in_legs_hips_during_period\", cat=i\n",
    "    )"
   ]
  },
  {
   "cell_type": "code",
   "execution_count": 73,
   "metadata": {},
   "outputs": [
    {
     "name": "stdout",
     "output_type": "stream",
     "text": [
      "Experiences pain in legs or hips between periods as often as never with endometriosis: 8 (3.5%), without endometriosis: 54 (16.7%).\n",
      "Experiences pain in legs or hips between periods as often as rarely with endometriosis: 19 (8.3%), without endometriosis: 81 (25.1%).\n",
      "Experiences pain in legs or hips between periods as often as sometimes with endometriosis: 67 (29.3%), without endometriosis: 91 (28.2%).\n",
      "Experiences pain in legs or hips between periods as often as often with endometriosis: 85 (37.1%), without endometriosis: 65 (20.1%).\n",
      "Experiences pain in legs or hips between periods as often as always with endometriosis: 49 (21.4%), without endometriosis: 31 (9.6%).\n"
     ]
    }
   ],
   "source": [
    "for i in pain_frequency_map.values():\n",
    "    text = f\"Experiences pain in legs or hips between periods as often as {i.lower()}\"\n",
    "    experiments_utils.print_stats(\n",
    "        endo_df, no_endo_df, text, \"bloating_between_periods\", cat=i\n",
    "    )"
   ]
  },
  {
   "cell_type": "markdown",
   "metadata": {},
   "source": [
    "### Fatigue"
   ]
  },
  {
   "cell_type": "code",
   "execution_count": 74,
   "metadata": {},
   "outputs": [
    {
     "name": "stdout",
     "output_type": "stream",
     "text": [
      "Experiences fatigue during period as often as never with endometriosis: 6 (2.6%), without endometriosis: 15 (4.6%).\n",
      "Experiences fatigue during period as often as rarely with endometriosis: 2 (0.9%), without endometriosis: 22 (6.8%).\n",
      "Experiences fatigue during period as often as sometimes with endometriosis: 27 (11.8%), without endometriosis: 48 (14.9%).\n",
      "Experiences fatigue during period as often as often with endometriosis: 48 (21.0%), without endometriosis: 94 (29.1%).\n",
      "Experiences fatigue during period as often as always with endometriosis: 143 (62.4%), without endometriosis: 144 (44.6%).\n"
     ]
    }
   ],
   "source": [
    "for i in pain_frequency_map.values():\n",
    "    text = f\"Experiences fatigue during period as often as {i.lower()}\"\n",
    "    experiments_utils.print_stats(\n",
    "        endo_df, no_endo_df, text, \"fatigue_during_period\", cat=i\n",
    "    )"
   ]
  },
  {
   "cell_type": "code",
   "execution_count": 75,
   "metadata": {},
   "outputs": [
    {
     "name": "stdout",
     "output_type": "stream",
     "text": [
      "Experiences fatigue between periods as often as never with endometriosis: 3 (1.3%), without endometriosis: 33 (10.2%).\n",
      "Experiences fatigue between periods as often as rarely with endometriosis: 16 (7.0%), without endometriosis: 61 (18.9%).\n",
      "Experiences fatigue between periods as often as sometimes with endometriosis: 57 (24.9%), without endometriosis: 96 (29.7%).\n",
      "Experiences fatigue between periods as often as often with endometriosis: 70 (30.6%), without endometriosis: 76 (23.5%).\n",
      "Experiences fatigue between periods as often as always with endometriosis: 83 (36.2%), without endometriosis: 57 (17.6%).\n"
     ]
    }
   ],
   "source": [
    "for i in pain_frequency_map.values():\n",
    "    text = f\"Experiences fatigue between periods as often as {i.lower()}\"\n",
    "    experiments_utils.print_stats(\n",
    "        endo_df, no_endo_df, text, \"fatigue_between_periods\", cat=i\n",
    "    )"
   ]
  },
  {
   "cell_type": "markdown",
   "metadata": {},
   "source": [
    "### 💊 Medication Intake"
   ]
  },
  {
   "cell_type": "code",
   "execution_count": 76,
   "metadata": {},
   "outputs": [
    {
     "name": "stdout",
     "output_type": "stream",
     "text": [
      "Take over-the-counter pills women with endometriosis: 162 (70.7%), without endometriosis: 227 (70.3%).\n"
     ]
    }
   ],
   "source": [
    "experiments_utils.print_stats(\n",
    "    endo_df, no_endo_df, \"Take over-the-counter pills women\", \"takes_over_cntr_pills\"\n",
    ")"
   ]
  },
  {
   "cell_type": "code",
   "execution_count": 77,
   "metadata": {},
   "outputs": [
    {
     "name": "stdout",
     "output_type": "stream",
     "text": [
      "Take prescribed painkillers women with endometriosis: 101 (44.1%), without endometriosis: 39 (12.1%).\n"
     ]
    }
   ],
   "source": [
    "experiments_utils.print_stats(\n",
    "    endo_df, no_endo_df, \"Take prescribed painkillers women\", \"takes_presc_painkillers\"\n",
    ")"
   ]
  },
  {
   "cell_type": "code",
   "execution_count": 78,
   "metadata": {},
   "outputs": [
    {
     "name": "stdout",
     "output_type": "stream",
     "text": [
      "Take hormonal treatments for pain women with endometriosis: 101 (44.1%), without endometriosis: 50 (15.5%).\n"
     ]
    }
   ],
   "source": [
    "experiments_utils.print_stats(\n",
    "    endo_df,\n",
    "    no_endo_df,\n",
    "    \"Take hormonal treatments for pain women\",\n",
    "    \"takes_hormones_for_pain\",\n",
    ")"
   ]
  },
  {
   "cell_type": "code",
   "execution_count": 123,
   "metadata": {},
   "outputs": [
    {
     "name": "stdout",
     "output_type": "stream",
     "text": [
      "27.36% of all participants use hormonal treatments for pain\n"
     ]
    }
   ],
   "source": [
    "print(\n",
    "    f\"{(df_endo['takes_hormones_for_pain'].sum() / len(df_endo) * 100):.2f}% of all participants use hormonal treatments for pain\"\n",
    ")"
   ]
  },
  {
   "cell_type": "markdown",
   "metadata": {},
   "source": [
    "### Intercourse-Related Symtoms"
   ]
  },
  {
   "cell_type": "code",
   "execution_count": 80,
   "metadata": {},
   "outputs": [
    {
     "name": "stdout",
     "output_type": "stream",
     "text": [
      "Not sexually active with endometriosis: 41 (17.9%), without endometriosis: 97 (30.0%).\n"
     ]
    }
   ],
   "source": [
    "experiments_utils.print_stats(\n",
    "    endo_df, no_endo_df, \"Not sexually active\", \"not_sex_active\"\n",
    ")"
   ]
  },
  {
   "cell_type": "code",
   "execution_count": 81,
   "metadata": {},
   "outputs": [
    {
     "name": "stdout",
     "output_type": "stream",
     "text": [
      "Experience pelvic pain during intercourse with endometriosis: 127 (55.5%), without endometriosis: 60 (18.6%).\n"
     ]
    }
   ],
   "source": [
    "experiments_utils.print_stats(\n",
    "    endo_df,\n",
    "    no_endo_df,\n",
    "    \"Experience pelvic pain during intercourse\",\n",
    "    \"pelvic_pain_during_intercourse\",\n",
    ")"
   ]
  },
  {
   "cell_type": "code",
   "execution_count": 82,
   "metadata": {},
   "outputs": [
    {
     "name": "stdout",
     "output_type": "stream",
     "text": [
      "Experience deep vaginal pain during intercourse with endometriosis: 127 (55.5%), without endometriosis: 63 (19.5%).\n"
     ]
    }
   ],
   "source": [
    "experiments_utils.print_stats(\n",
    "    endo_df,\n",
    "    no_endo_df,\n",
    "    \"Experience deep vaginal pain during intercourse\",\n",
    "    \"deep_vaginal_pain_during_intercourse\",\n",
    ")"
   ]
  },
  {
   "cell_type": "code",
   "execution_count": 83,
   "metadata": {},
   "outputs": [
    {
     "name": "stdout",
     "output_type": "stream",
     "text": [
      "Experience pain after intercourse with endometriosis: 113 (49.3%), without endometriosis: 61 (18.9%).\n"
     ]
    }
   ],
   "source": [
    "experiments_utils.print_stats(\n",
    "    endo_df, no_endo_df, \"Experience pain after intercourse\", \"pain_after_sex\"\n",
    ")"
   ]
  },
  {
   "cell_type": "markdown",
   "metadata": {},
   "source": [
    "## 🚽 Bowel & Urinary Movements"
   ]
  },
  {
   "cell_type": "code",
   "execution_count": 84,
   "metadata": {},
   "outputs": [
    {
     "name": "stdout",
     "output_type": "stream",
     "text": [
      "Has regular bowel movements with endometriosis: 188 (82.1%), without endometriosis: 284 (87.9%).\n"
     ]
    }
   ],
   "source": [
    "experiments_utils.print_stats(\n",
    "    endo_df, no_endo_df, \"Has regular bowel movements\", \"regular_bowel_movements\"\n",
    ")"
   ]
  },
  {
   "cell_type": "code",
   "execution_count": 85,
   "metadata": {},
   "outputs": [
    {
     "name": "stdout",
     "output_type": "stream",
     "text": [
      "Has painful bowel movements with endometriosis: 173.0 (75.5%), without endometriosis: 125.0 (38.7%).\n"
     ]
    }
   ],
   "source": [
    "experiments_utils.print_stats(\n",
    "    endo_df, no_endo_df, \"Has painful bowel movements\", \"painful_bowel_movements\"\n",
    ")"
   ]
  },
  {
   "cell_type": "code",
   "execution_count": 86,
   "metadata": {},
   "outputs": [
    {
     "name": "stdout",
     "output_type": "stream",
     "text": [
      "Has difficulty controlling urination with endometriosis: 80.0 (34.9%), without endometriosis: 52.0 (16.1%).\n"
     ]
    }
   ],
   "source": [
    "experiments_utils.print_stats(\n",
    "    endo_df,\n",
    "    no_endo_df,\n",
    "    \"Has difficulty controlling urination\",\n",
    "    \"difficulty_controlling_urination\",\n",
    ")"
   ]
  },
  {
   "cell_type": "code",
   "execution_count": 87,
   "metadata": {},
   "outputs": [
    {
     "name": "stdout",
     "output_type": "stream",
     "text": [
      "Has pain during urination with endometriosis: 101.0 (44.1%), without endometriosis: 47.0 (14.6%).\n"
     ]
    }
   ],
   "source": [
    "experiments_utils.print_stats(\n",
    "    endo_df, no_endo_df, \"Has pain during urination\", \"pain_during_urination\"\n",
    ")"
   ]
  },
  {
   "cell_type": "markdown",
   "metadata": {},
   "source": [
    "## 🩸 Menses Characteristics & Blood Loss Approximation"
   ]
  },
  {
   "cell_type": "markdown",
   "metadata": {},
   "source": [
    "### 🔄🗓️ Cycle Duration"
   ]
  },
  {
   "cell_type": "code",
   "execution_count": 88,
   "metadata": {},
   "outputs": [
    {
     "name": "stdout",
     "output_type": "stream",
     "text": [
      "less24d_cycle_length with endometriosis: 11 (4.8%), without endometriosis: 8 (2.5%).\n",
      "24_31d_cycle_length with endometriosis: 136 (59.4%), without endometriosis: 197 (61.0%).\n",
      "32_38d_cycle_length with endometriosis: 29 (12.7%), without endometriosis: 46 (14.2%).\n",
      "39_50d_cycle_length with endometriosis: 4 (1.7%), without endometriosis: 6 (1.9%).\n",
      "more51d_cycle_length with endometriosis: 3 (1.3%), without endometriosis: 5 (1.5%).\n",
      "too_irregular_cycle_length with endometriosis: 46 (20.1%), without endometriosis: 59 (18.3%).\n"
     ]
    }
   ],
   "source": [
    "for i in [\n",
    "    \"less24d_cycle_length\",\n",
    "    \"24_31d_cycle_length\",\n",
    "    \"32_38d_cycle_length\",\n",
    "    \"39_50d_cycle_length\",\n",
    "    \"more51d_cycle_length\",\n",
    "    \"too_irregular_cycle_length\",\n",
    "]:\n",
    "    experiments_utils.print_stats(endo_df, no_endo_df, f\"{i}\", i)"
   ]
  },
  {
   "cell_type": "markdown",
   "metadata": {},
   "source": [
    "### 🩸🗓️ Period Duration"
   ]
  },
  {
   "cell_type": "code",
   "execution_count": 89,
   "metadata": {},
   "outputs": [
    {
     "name": "stdout",
     "output_type": "stream",
     "text": [
      "1_2days_period_duration with endometriosis: 6 (2.6%), without endometriosis: 13 (4.0%).\n",
      "3_4days_period_duration with endometriosis: 48 (21.0%), without endometriosis: 101 (31.3%).\n",
      "5_6days_period_duration with endometriosis: 109 (47.6%), without endometriosis: 141 (43.7%).\n",
      "7plus_days_period_duration with endometriosis: 66 (28.8%), without endometriosis: 66 (20.4%).\n"
     ]
    }
   ],
   "source": [
    "for i in [\n",
    "    \"1_2days_period_duration\",\n",
    "    \"3_4days_period_duration\",\n",
    "    \"5_6days_period_duration\",\n",
    "    \"7plus_days_period_duration\",\n",
    "]:\n",
    "    experiments_utils.print_stats(endo_df, no_endo_df, f\"{i}\", i)"
   ]
  },
  {
   "cell_type": "markdown",
   "metadata": {},
   "source": [
    "### ⏱️ Bleeding Duration Changes"
   ]
  },
  {
   "cell_type": "code",
   "execution_count": 90,
   "metadata": {},
   "outputs": [
    {
     "name": "stdout",
     "output_type": "stream",
     "text": [
      "Experiences changes in bleeding duration with endometriosis: 122.0 (53.3%), without endometriosis: 158.0 (48.9%).\n"
     ]
    }
   ],
   "source": [
    "experiments_utils.print_stats(\n",
    "    endo_df,\n",
    "    no_endo_df,\n",
    "    \"Experiences changes in bleeding duration\",\n",
    "    \"bleeding_duration_changes\",\n",
    ")"
   ]
  },
  {
   "cell_type": "markdown",
   "metadata": {},
   "source": [
    "### Large Blood Clots Frequency"
   ]
  },
  {
   "cell_type": "code",
   "execution_count": 91,
   "metadata": {},
   "outputs": [
    {
     "name": "stdout",
     "output_type": "stream",
     "text": [
      "Experiences large blood clots as often as never with endometriosis: 14 (6.1%), without endometriosis: 61 (18.9%).\n",
      "Experiences large blood clots as often as rarely with endometriosis: 45 (19.7%), without endometriosis: 101 (31.3%).\n",
      "Experiences large blood clots as often as sometimes with endometriosis: 87 (38.0%), without endometriosis: 105 (32.5%).\n",
      "Experiences large blood clots as often as often with endometriosis: 83 (36.2%), without endometriosis: 54 (16.7%).\n",
      "Experiences large blood clots as often as always with endometriosis: 0 (0.0%), without endometriosis: 0 (0.0%).\n"
     ]
    }
   ],
   "source": [
    "for i in pain_frequency_map.values():\n",
    "    text = f\"Experiences large blood clots as often as {i.lower()}\"\n",
    "    experiments_utils.print_stats(\n",
    "        endo_df, no_endo_df, text, \"large_blood_clots_frequency\", cat=i\n",
    "    )"
   ]
  },
  {
   "cell_type": "markdown",
   "metadata": {},
   "source": [
    "### Spotting Between Periods"
   ]
  },
  {
   "cell_type": "code",
   "execution_count": 92,
   "metadata": {},
   "outputs": [
    {
     "name": "stdout",
     "output_type": "stream",
     "text": [
      "Experiences spotting between periods with endometriosis: 112.0 (48.9%), without endometriosis: 111.0 (34.4%).\n"
     ]
    }
   ],
   "source": [
    "experiments_utils.print_stats(\n",
    "    endo_df,\n",
    "    no_endo_df,\n",
    "    \"Experiences spotting between periods\",\n",
    "    \"spotting_between_periods\",\n",
    ")"
   ]
  },
  {
   "cell_type": "markdown",
   "metadata": {},
   "source": [
    "### Heavy Bleeding Frequency"
   ]
  },
  {
   "cell_type": "code",
   "execution_count": 93,
   "metadata": {},
   "outputs": [
    {
     "name": "stdout",
     "output_type": "stream",
     "text": [
      "Experiences need to change sanitary products multiple times in several consecutive hours to prevent leakage as often as never with endometriosis: 25 (10.9%), without endometriosis: 89 (27.6%).\n",
      "Experiences need to change sanitary products multiple times in several consecutive hours to prevent leakage as often as rarely with endometriosis: 41 (17.9%), without endometriosis: 91 (28.2%).\n",
      "Experiences need to change sanitary products multiple times in several consecutive hours to prevent leakage as often as sometimes with endometriosis: 58 (25.3%), without endometriosis: 55 (17.0%).\n",
      "Experiences need to change sanitary products multiple times in several consecutive hours to prevent leakage as often as often with endometriosis: 60 (26.2%), without endometriosis: 56 (17.3%).\n",
      "Experiences need to change sanitary products multiple times in several consecutive hours to prevent leakage as often as always with endometriosis: 45 (19.7%), without endometriosis: 30 (9.3%).\n"
     ]
    }
   ],
   "source": [
    "for i in pain_frequency_map.values():\n",
    "    text = f\"Experiences need to change sanitary products multiple times in several consecutive hours to prevent leakage as often as {i.lower()}\"\n",
    "    experiments_utils.print_stats(\n",
    "        endo_df, no_endo_df, text, \"heavy_bleeding_frequency\", cat=i\n",
    "    )"
   ]
  },
  {
   "cell_type": "markdown",
   "metadata": {},
   "source": [
    "### 🌙 Night Time Changes"
   ]
  },
  {
   "cell_type": "code",
   "execution_count": 94,
   "metadata": {},
   "outputs": [
    {
     "name": "stdout",
     "output_type": "stream",
     "text": [
      "Experiences need to change sanitary in the night to prevent leakage as often as never with endometriosis: 38 (16.6%), without endometriosis: 120 (37.2%).\n",
      "Experiences need to change sanitary in the night to prevent leakage as often as rarely with endometriosis: 53 (23.1%), without endometriosis: 69 (21.4%).\n",
      "Experiences need to change sanitary in the night to prevent leakage as often as sometimes with endometriosis: 71 (31.0%), without endometriosis: 71 (22.0%).\n",
      "Experiences need to change sanitary in the night to prevent leakage as often as often with endometriosis: 36 (15.7%), without endometriosis: 42 (13.0%).\n",
      "Experiences need to change sanitary in the night to prevent leakage as often as always with endometriosis: 31 (13.5%), without endometriosis: 19 (5.9%).\n"
     ]
    }
   ],
   "source": [
    "for i in pain_frequency_map.values():\n",
    "    text = f\"Experiences need to change sanitary in the night to prevent leakage as often as {i.lower()}\"\n",
    "    experiments_utils.print_stats(\n",
    "        endo_df, no_endo_df, text, \"night_time_changes\", cat=i\n",
    "    )"
   ]
  },
  {
   "cell_type": "markdown",
   "metadata": {},
   "source": [
    "## 🧬 Family History"
   ]
  },
  {
   "cell_type": "code",
   "execution_count": 95,
   "metadata": {},
   "outputs": [
    {
     "name": "stdout",
     "output_type": "stream",
     "text": [
      "Family member were diagnosed with endometriosis within women with endometriosis: 93 (40.6%), without endometriosis: 49 (15.2%).\n"
     ]
    }
   ],
   "source": [
    "experiments_utils.print_stats(\n",
    "    endo_df,\n",
    "    no_endo_df,\n",
    "    \"Family member were diagnosed with endometriosis within women\",\n",
    "    \"family_history_endometriosis\",\n",
    ")"
   ]
  },
  {
   "cell_type": "code",
   "execution_count": 96,
   "metadata": {},
   "outputs": [
    {
     "name": "stdout",
     "output_type": "stream",
     "text": [
      "Family member experienced infertility within women with endometriosis: 48 (21.0%), without endometriosis: 34 (10.5%).\n"
     ]
    }
   ],
   "source": [
    "experiments_utils.print_stats(\n",
    "    endo_df,\n",
    "    no_endo_df,\n",
    "    \"Family member experienced infertility within women\",\n",
    "    \"family_history_infertility\",\n",
    ")"
   ]
  },
  {
   "cell_type": "code",
   "execution_count": 97,
   "metadata": {},
   "outputs": [
    {
     "name": "stdout",
     "output_type": "stream",
     "text": [
      "Family member experienced heavy bleeding within women with endometriosis: 115 (50.2%), without endometriosis: 114 (35.3%).\n"
     ]
    }
   ],
   "source": [
    "experiments_utils.print_stats(\n",
    "    endo_df,\n",
    "    no_endo_df,\n",
    "    \"Family member experienced heavy bleeding within women\",\n",
    "    \"family_history_heavy_bleeding\",\n",
    ")"
   ]
  },
  {
   "cell_type": "code",
   "execution_count": 98,
   "metadata": {},
   "outputs": [
    {
     "name": "stdout",
     "output_type": "stream",
     "text": [
      "Family member experienced pelvic pain within women with endometriosis: 113 (49.3%), without endometriosis: 105 (32.5%).\n"
     ]
    }
   ],
   "source": [
    "experiments_utils.print_stats(\n",
    "    endo_df,\n",
    "    no_endo_df,\n",
    "    \"Family member experienced pelvic pain within women\",\n",
    "    \"family_history_pelvic_pain\",\n",
    ")"
   ]
  },
  {
   "cell_type": "markdown",
   "metadata": {},
   "source": [
    "## ✨ Quality-of-Life"
   ]
  },
  {
   "cell_type": "code",
   "execution_count": 99,
   "metadata": {},
   "outputs": [],
   "source": [
    "qol_features = [\n",
    "    \"bleeding_impact_social_events\",\n",
    "    \"bleeding_impact_home_jobs\",\n",
    "    \"bleeding_impact_work\",\n",
    "    \"bleeding_impact_physical_activity\",\n",
    "    \"pain_impact_social_events\",\n",
    "    \"pain_impact_home_jobs\",\n",
    "    \"pain_impact_work\",\n",
    "    \"pain_impact_physical_activity\",\n",
    "    \"pain_impact_appetite\",\n",
    "    \"pain_impact_sleep\",\n",
    "]"
   ]
  },
  {
   "cell_type": "markdown",
   "metadata": {},
   "source": [
    "### Bleeding and Pain Impact on Daily Activity"
   ]
  },
  {
   "cell_type": "code",
   "execution_count": 100,
   "metadata": {},
   "outputs": [
    {
     "name": "stdout",
     "output_type": "stream",
     "text": [
      "Experiences bleeding_impact_social_events as often as never with endometriosis: 64 (27.9%), without endometriosis: 158 (48.9%).\n",
      "Experiences bleeding_impact_social_events as often as rarely with endometriosis: 34 (14.8%), without endometriosis: 71 (22.0%).\n",
      "Experiences bleeding_impact_social_events as often as sometimes with endometriosis: 66 (28.8%), without endometriosis: 56 (17.3%).\n",
      "Experiences bleeding_impact_social_events as often as often with endometriosis: 55 (24.0%), without endometriosis: 28 (8.7%).\n",
      "Experiences bleeding_impact_social_events as often as always with endometriosis: 9 (3.9%), without endometriosis: 7 (2.2%).\n",
      "\n",
      "Experiences bleeding_impact_home_jobs as often as never with endometriosis: 59 (25.8%), without endometriosis: 142 (44.0%).\n",
      "Experiences bleeding_impact_home_jobs as often as rarely with endometriosis: 26 (11.4%), without endometriosis: 62 (19.2%).\n",
      "Experiences bleeding_impact_home_jobs as often as sometimes with endometriosis: 65 (28.4%), without endometriosis: 63 (19.5%).\n",
      "Experiences bleeding_impact_home_jobs as often as often with endometriosis: 65 (28.4%), without endometriosis: 42 (13.0%).\n",
      "Experiences bleeding_impact_home_jobs as often as always with endometriosis: 13 (5.7%), without endometriosis: 12 (3.7%).\n",
      "\n",
      "Experiences bleeding_impact_work as often as never with endometriosis: 73 (31.9%), without endometriosis: 187 (57.9%).\n",
      "Experiences bleeding_impact_work as often as rarely with endometriosis: 36 (15.7%), without endometriosis: 55 (17.0%).\n",
      "Experiences bleeding_impact_work as often as sometimes with endometriosis: 50 (21.8%), without endometriosis: 47 (14.6%).\n",
      "Experiences bleeding_impact_work as often as often with endometriosis: 51 (22.3%), without endometriosis: 25 (7.7%).\n",
      "Experiences bleeding_impact_work as often as always with endometriosis: 17 (7.4%), without endometriosis: 7 (2.2%).\n",
      "\n",
      "Experiences bleeding_impact_physical_activity as often as never with endometriosis: 44 (19.2%), without endometriosis: 98 (30.3%).\n",
      "Experiences bleeding_impact_physical_activity as often as rarely with endometriosis: 15 (6.6%), without endometriosis: 51 (15.8%).\n",
      "Experiences bleeding_impact_physical_activity as often as sometimes with endometriosis: 54 (23.6%), without endometriosis: 69 (21.4%).\n",
      "Experiences bleeding_impact_physical_activity as often as often with endometriosis: 79 (34.5%), without endometriosis: 77 (23.8%).\n",
      "Experiences bleeding_impact_physical_activity as often as always with endometriosis: 36 (15.7%), without endometriosis: 26 (8.0%).\n",
      "\n",
      "Experiences pain_impact_social_events as often as never with endometriosis: 10 (4.4%), without endometriosis: 88 (27.2%).\n",
      "Experiences pain_impact_social_events as often as rarely with endometriosis: 21 (9.2%), without endometriosis: 60 (18.6%).\n",
      "Experiences pain_impact_social_events as often as sometimes with endometriosis: 77 (33.6%), without endometriosis: 101 (31.3%).\n",
      "Experiences pain_impact_social_events as often as often with endometriosis: 99 (43.2%), without endometriosis: 61 (18.9%).\n",
      "Experiences pain_impact_social_events as often as always with endometriosis: 21 (9.2%), without endometriosis: 13 (4.0%).\n",
      "\n",
      "Experiences pain_impact_home_jobs as often as never with endometriosis: 10 (4.4%), without endometriosis: 64 (19.8%).\n",
      "Experiences pain_impact_home_jobs as often as rarely with endometriosis: 9 (3.9%), without endometriosis: 47 (14.6%).\n",
      "Experiences pain_impact_home_jobs as often as sometimes with endometriosis: 64 (27.9%), without endometriosis: 107 (33.1%).\n",
      "Experiences pain_impact_home_jobs as often as often with endometriosis: 115 (50.2%), without endometriosis: 81 (25.1%).\n",
      "Experiences pain_impact_home_jobs as often as always with endometriosis: 30 (13.1%), without endometriosis: 23 (7.1%).\n",
      "\n",
      "Experiences pain_impact_work as often as never with endometriosis: 23 (10.0%), without endometriosis: 139 (43.0%).\n",
      "Experiences pain_impact_work as often as rarely with endometriosis: 29 (12.7%), without endometriosis: 59 (18.3%).\n",
      "Experiences pain_impact_work as often as sometimes with endometriosis: 67 (29.3%), without endometriosis: 60 (18.6%).\n",
      "Experiences pain_impact_work as often as often with endometriosis: 80 (34.9%), without endometriosis: 53 (16.4%).\n",
      "Experiences pain_impact_work as often as always with endometriosis: 26 (11.4%), without endometriosis: 12 (3.7%).\n",
      "\n",
      "Experiences pain_impact_physical_activity as often as never with endometriosis: 4 (1.7%), without endometriosis: 39 (12.1%).\n",
      "Experiences pain_impact_physical_activity as often as rarely with endometriosis: 10 (4.4%), without endometriosis: 48 (14.9%).\n",
      "Experiences pain_impact_physical_activity as often as sometimes with endometriosis: 48 (21.0%), without endometriosis: 106 (32.8%).\n",
      "Experiences pain_impact_physical_activity as often as often with endometriosis: 111 (48.5%), without endometriosis: 84 (26.0%).\n",
      "Experiences pain_impact_physical_activity as often as always with endometriosis: 55 (24.0%), without endometriosis: 46 (14.2%).\n",
      "\n",
      "Experiences pain_impact_appetite as often as never with endometriosis: 14 (6.1%), without endometriosis: 95 (29.4%).\n",
      "Experiences pain_impact_appetite as often as rarely with endometriosis: 26 (11.4%), without endometriosis: 56 (17.3%).\n",
      "Experiences pain_impact_appetite as often as sometimes with endometriosis: 68 (29.7%), without endometriosis: 78 (24.1%).\n",
      "Experiences pain_impact_appetite as often as often with endometriosis: 83 (36.2%), without endometriosis: 65 (20.1%).\n",
      "Experiences pain_impact_appetite as often as always with endometriosis: 37 (16.2%), without endometriosis: 29 (9.0%).\n",
      "\n",
      "Experiences pain_impact_sleep as often as never with endometriosis: 13 (5.7%), without endometriosis: 68 (21.1%).\n",
      "Experiences pain_impact_sleep as often as rarely with endometriosis: 13 (5.7%), without endometriosis: 65 (20.1%).\n",
      "Experiences pain_impact_sleep as often as sometimes with endometriosis: 51 (22.3%), without endometriosis: 69 (21.4%).\n",
      "Experiences pain_impact_sleep as often as often with endometriosis: 101 (44.1%), without endometriosis: 82 (25.4%).\n",
      "Experiences pain_impact_sleep as often as always with endometriosis: 49 (21.4%), without endometriosis: 39 (12.1%).\n",
      "\n"
     ]
    }
   ],
   "source": [
    "for qol_feature in qol_features:\n",
    "    for i in pain_frequency_map.values():\n",
    "        text = f\"Experiences {qol_feature} as often as {i.lower()}\"\n",
    "        experiments_utils.print_stats(endo_df, no_endo_df, text, qol_feature, cat=i)\n",
    "    print()"
   ]
  },
  {
   "cell_type": "markdown",
   "metadata": {},
   "source": [
    "### Psychological Strain"
   ]
  },
  {
   "cell_type": "code",
   "execution_count": 101,
   "metadata": {},
   "outputs": [
    {
     "name": "stdout",
     "output_type": "stream",
     "text": [
      "Experiences mood swings as often as never with endometriosis: 1 (0.4%), without endometriosis: 15 (4.6%).\n",
      "Experiences mood swings as often as rarely with endometriosis: 19 (8.3%), without endometriosis: 44 (13.6%).\n",
      "Experiences mood swings as often as sometimes with endometriosis: 86 (37.6%), without endometriosis: 124 (38.4%).\n",
      "Experiences mood swings as often as often with endometriosis: 85 (37.1%), without endometriosis: 87 (26.9%).\n",
      "Experiences mood swings as often as always with endometriosis: 37 (16.2%), without endometriosis: 53 (16.4%).\n"
     ]
    }
   ],
   "source": [
    "for i in pain_frequency_map.values():\n",
    "    text = f\"Experiences mood swings as often as {i.lower()}\"\n",
    "    experiments_utils.print_stats(\n",
    "        endo_df, no_endo_df, text, \"experiences_mood_swings\", cat=i\n",
    "    )"
   ]
  },
  {
   "cell_type": "code",
   "execution_count": 102,
   "metadata": {},
   "outputs": [
    {
     "name": "stdout",
     "output_type": "stream",
     "text": [
      "Unable to cope with pain as often as never with endometriosis: 4 (1.7%), without endometriosis: 70 (21.7%).\n",
      "Unable to cope with pain as often as rarely with endometriosis: 20 (8.7%), without endometriosis: 96 (29.7%).\n",
      "Unable to cope with pain as often as sometimes with endometriosis: 86 (37.6%), without endometriosis: 94 (29.1%).\n",
      "Unable to cope with pain as often as often with endometriosis: 93 (40.6%), without endometriosis: 50 (15.5%).\n",
      "Unable to cope with pain as often as always with endometriosis: 26 (11.4%), without endometriosis: 11 (3.4%).\n"
     ]
    }
   ],
   "source": [
    "for i in pain_frequency_map.values():\n",
    "    text = f\"Unable to cope with pain as often as {i.lower()}\"\n",
    "    experiments_utils.print_stats(\n",
    "        endo_df, no_endo_df, text, \"unable_to_cope_with_pain\", cat=i\n",
    "    )"
   ]
  }
 ],
 "metadata": {
  "kernelspec": {
   "display_name": "Python 3",
   "language": "python",
   "name": "python3"
  },
  "language_info": {
   "codemirror_mode": {
    "name": "ipython",
    "version": 3
   },
   "file_extension": ".py",
   "mimetype": "text/x-python",
   "name": "python",
   "nbconvert_exporter": "python",
   "pygments_lexer": "ipython3",
   "version": "3.11.5"
  }
 },
 "nbformat": 4,
 "nbformat_minor": 2
}
