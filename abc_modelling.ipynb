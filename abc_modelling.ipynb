{
 "cells": [
  {
   "cell_type": "markdown",
   "metadata": {},
   "source": [
    "# ⭐️ Automatic Bias Correction Modelling\n",
    "\n",
    "The mechanisms of Automatic Bias Correction modelling approach is described in Section 5.5."
   ]
  },
  {
   "cell_type": "markdown",
   "metadata": {},
   "source": [
    "Import all the required packages."
   ]
  },
  {
   "cell_type": "code",
   "execution_count": 1,
   "metadata": {},
   "outputs": [],
   "source": [
    "import sys\n",
    "\n",
    "sys.path.append(\"./preprocessing_utils\")\n",
    "sys.path.append(\"./feature_selection_utils\")\n",
    "sys.path.append(\"./visual_utils\")\n",
    "sys.path.append(\"./experiment_utils\")"
   ]
  },
  {
   "cell_type": "code",
   "execution_count": 2,
   "metadata": {},
   "outputs": [],
   "source": [
    "import pandas as pd\n",
    "from sklearn.model_selection import train_test_split\n",
    "\n",
    "import experiments_utils\n",
    "import feature_selection\n",
    "import preprocessing\n",
    "\n",
    "# configure pandas settings for data display\n",
    "pd.options.mode.chained_assignment = None\n",
    "pd.set_option(\"display.max_rows\", None)\n",
    "pd.set_option(\"display.max_columns\", None)"
   ]
  },
  {
   "cell_type": "markdown",
   "metadata": {},
   "source": [
    "## 📂 Prepare Datasets"
   ]
  },
  {
   "cell_type": "markdown",
   "metadata": {},
   "source": [
    "📌 Features used for prediction"
   ]
  },
  {
   "cell_type": "code",
   "execution_count": 3,
   "metadata": {},
   "outputs": [],
   "source": [
    "selected_features = [\n",
    "    \"pelvic_pain_frequency_between_periods\",\n",
    "    \"deep_vaginal_pain_during_intercourse\",\n",
    "    \"painful_bowel_movements\",\n",
    "    \"unable_to_cope_with_pain\",\n",
    "    \"experienced_infertility\",\n",
    "    \"family_history_endometriosis_prediction\",\n",
    "    \"pelvic_pain_worst\",\n",
    "    \"takes_hormones_for_pain\",\n",
    "    \"takes_presc_painkillers\",\n",
    "]"
   ]
  },
  {
   "cell_type": "markdown",
   "metadata": {},
   "source": [
    "Import real and synthetic data for the selected subset of features."
   ]
  },
  {
   "cell_type": "code",
   "execution_count": 4,
   "metadata": {},
   "outputs": [],
   "source": [
    "df_real = pd.read_csv(experiments_utils.ENDO_DATA_PREDICTION_PATH)\n",
    "df_synth_tvae = pd.read_csv(\n",
    "    \"./synthetic_data/tvae_selected_features_with_treatments_exp_10000_synthetic_data.csv\"\n",
    ")"
   ]
  },
  {
   "cell_type": "code",
   "execution_count": 6,
   "metadata": {},
   "outputs": [
    {
     "name": "stdout",
     "output_type": "stream",
     "text": [
      "Synthetic data contains 3932 data points with positive endometriosis label.\n"
     ]
    }
   ],
   "source": [
    "X_real = df_real[selected_features]\n",
    "y_real = df_real[\"has_endometriosis\"]\n",
    "\n",
    "X_synth_tvae = df_synth_tvae[selected_features]\n",
    "y_synth_tvae = df_synth_tvae[\"has_endometriosis\"]\n",
    "print(\n",
    "    f\"Synthetic data contains {y_synth_tvae.sum()} data points with positive endometriosis label.\"\n",
    ")"
   ]
  },
  {
   "cell_type": "markdown",
   "metadata": {},
   "source": [
    "Define values of estimated treatment effects. \n",
    "\n",
    "The ATEs are obtained under [causality_ates_endo.ipynb](https://colab.research.google.com/drive/1SSy3NmiqabCy_9D8wFIC4ct_xh1B5k5c#scrollTo=MJq75w1wIwm8)."
   ]
  },
  {
   "cell_type": "code",
   "execution_count": 7,
   "metadata": {},
   "outputs": [],
   "source": [
    "ate_features = [\"takes_hormones_for_pain\", \"takes_presc_painkillers\"]"
   ]
  },
  {
   "cell_type": "code",
   "execution_count": 8,
   "metadata": {},
   "outputs": [],
   "source": [
    "takes_hormones_for_pain_effect = 0.25709203848847795\n",
    "takes_presc_painkillers = 0.20126422297752325"
   ]
  },
  {
   "cell_type": "markdown",
   "metadata": {},
   "source": [
    "Split the data into training and test sets."
   ]
  },
  {
   "cell_type": "code",
   "execution_count": 9,
   "metadata": {},
   "outputs": [],
   "source": [
    "X_datasets = [X_real, X_synth_tvae]\n",
    "effects = {\n",
    "    \"takes_hormones_for_pain\": takes_hormones_for_pain_effect,\n",
    "    \"takes_presc_painkillers\": takes_presc_painkillers,\n",
    "}\n",
    "\n",
    "for X_dataset in X_datasets:\n",
    "    for feature, effect in effects.items():\n",
    "        # Create a new column with the effect of the treatment\n",
    "        X_dataset[f\"{feature}_effect\"] = X_dataset[feature] * effect\n",
    "        X_dataset.drop(columns=[feature], inplace=True)"
   ]
  },
  {
   "cell_type": "code",
   "execution_count": 10,
   "metadata": {},
   "outputs": [],
   "source": [
    "# create training and test subsets\n",
    "# test dataset is used for testing real-data-trained model and additionally serves as an external test set for synthetic-data-trained algorithm\n",
    "X_train_real, X_test_external_dataset, y_train_real, y_test_external_dataset = (\n",
    "    train_test_split(X_real, y_real, test_size=0.3, random_state=42)\n",
    ")\n",
    "X_train_real, X_test_external_dataset = preprocessing.impute_features(\n",
    "    X_train_real, X_test_external_dataset\n",
    ")"
   ]
  },
  {
   "cell_type": "code",
   "execution_count": 11,
   "metadata": {},
   "outputs": [],
   "source": [
    "# entire dataset for testing (for synthetic-data-trained algorithm)\n",
    "X_test_entire_dataset = X_real\n",
    "y_test_entire_dataset = y_real\n",
    "\n",
    "X_train_synth_tvae = X_synth_tvae\n",
    "y_train_synth_tvae = y_synth_tvae\n",
    "X_train_synth_tvae, _ = preprocessing.impute_features(\n",
    "    X_train_synth_tvae, X_test_entire_dataset\n",
    ")"
   ]
  },
  {
   "cell_type": "markdown",
   "metadata": {},
   "source": [
    "## 🌍 Debiased Modelling with Real Data Only"
   ]
  },
  {
   "cell_type": "markdown",
   "metadata": {},
   "source": [
    "The results of the code cells below are preseneted and discussed in Section 6.3.3."
   ]
  },
  {
   "cell_type": "markdown",
   "metadata": {},
   "source": [
    "### Logistic Regression"
   ]
  },
  {
   "cell_type": "code",
   "execution_count": 11,
   "metadata": {},
   "outputs": [
    {
     "name": "stdout",
     "output_type": "stream",
     "text": [
      "Best Hyperparameters: {'C': 1, 'penalty': 'l2', 'solver': 'liblinear'}\n",
      "Avg F1 Score: 0.7520504721934145\n"
     ]
    }
   ],
   "source": [
    "lr_model_double_debiased, lr_val_folds_double_debiased = (\n",
    "    feature_selection.run_logistic_regression(X_train_real, y_train_real, disp=True)\n",
    ")"
   ]
  },
  {
   "cell_type": "markdown",
   "metadata": {},
   "source": [
    "### Random Forest"
   ]
  },
  {
   "cell_type": "code",
   "execution_count": 12,
   "metadata": {},
   "outputs": [
    {
     "name": "stdout",
     "output_type": "stream",
     "text": [
      "Best Hyperparameters: {'max_depth': 10, 'min_samples_leaf': 4, 'min_samples_split': 2, 'n_estimators': 300}\n",
      "Avg F1 Score: 0.7733762332405768\n"
     ]
    }
   ],
   "source": [
    "rf_model_double_debiased, rf_val_folds_double_debiased = feature_selection.run_rf(\n",
    "    X_train_real, y_train_real, disp=True\n",
    ")"
   ]
  },
  {
   "cell_type": "markdown",
   "metadata": {},
   "source": [
    "### XGBoost"
   ]
  },
  {
   "cell_type": "code",
   "execution_count": 13,
   "metadata": {},
   "outputs": [
    {
     "name": "stdout",
     "output_type": "stream",
     "text": [
      "Best Hyperparameters: {'colsample_bytree': 1, 'gamma': 0.1, 'learning_rate': 0.05, 'n_estimators': 100, 'subsample': 0.5}\n",
      "Avg F1 Score: 0.7733963970395754\n"
     ]
    }
   ],
   "source": [
    "xgboost_model_double_debiased, xgb_val_folds_double_debiased = (\n",
    "    feature_selection.run_xgb(X_train_real, y_train_real, disp=True)\n",
    ")"
   ]
  },
  {
   "cell_type": "markdown",
   "metadata": {},
   "source": [
    "### AdaBoost"
   ]
  },
  {
   "cell_type": "code",
   "execution_count": 14,
   "metadata": {},
   "outputs": [
    {
     "name": "stdout",
     "output_type": "stream",
     "text": [
      "Best Hyperparameters: {'algorithm': 'SAMME', 'learning_rate': 0.2, 'n_estimators': 200}\n",
      "Avg F1 Score: 0.7571338794748065\n"
     ]
    }
   ],
   "source": [
    "ada_model_double_debiased, ada_val_folds_double_debiased = feature_selection.run_ada(\n",
    "    X_train_real, y_train_real, disp=True\n",
    ")"
   ]
  },
  {
   "cell_type": "markdown",
   "metadata": {},
   "source": [
    "### MLP"
   ]
  },
  {
   "cell_type": "code",
   "execution_count": 15,
   "metadata": {},
   "outputs": [
    {
     "name": "stdout",
     "output_type": "stream",
     "text": [
      "Best Hyperparameters: {'mlp__activation': 'tanh', 'mlp__alpha': 0.1, 'mlp__batch_size': 32, 'mlp__beta_1': 0.9, 'mlp__beta_2': 0.999, 'mlp__early_stopping': True, 'mlp__hidden_layer_sizes': (50, 50), 'mlp__learning_rate_init': 0.1, 'mlp__max_iter': 500, 'mlp__solver': 'adam'}\n",
      "Avg F1 Score: 0.7998267049843949\n"
     ]
    }
   ],
   "source": [
    "mlp_model_double_debiased, mlp_val_folds_double_debiased = feature_selection.run_mlp(\n",
    "    X_train_real, y_train_real, disp=True\n",
    ")"
   ]
  },
  {
   "cell_type": "markdown",
   "metadata": {},
   "source": [
    "### TabPFN"
   ]
  },
  {
   "cell_type": "markdown",
   "metadata": {},
   "source": [
    "Please note that TabPFn runs under [TabPFN_endometriosis_experiment.ipynb](https://colab.research.google.com/drive/1S9i1o-kvCWtUDNY7kDj0AAR88KAaJCEo#scrollTo=FXdTtXVeqzgD) (section *Automatic Bias Correction Modelling*).\n",
    "\n",
    "It achieves average F1 score of 75.09%."
   ]
  },
  {
   "cell_type": "code",
   "execution_count": 16,
   "metadata": {},
   "outputs": [
    {
     "name": "stdout",
     "output_type": "stream",
     "text": [
      "Confusion Matrix:\n",
      "[[71 31]\n",
      " [ 6 58]]\n",
      "Accuracy: 0.7771\n",
      "Recall: 0.9062\n",
      "Specificity: 0.6961\n",
      "F1-Score: 0.7582\n"
     ]
    }
   ],
   "source": [
    "y_test_pred_real = feature_selection.evaluate_model_performance(\n",
    "    mlp_model_double_debiased, X_test_external_dataset, y_test_external_dataset\n",
    ")"
   ]
  },
  {
   "cell_type": "markdown",
   "metadata": {},
   "source": [
    "## 🤖 Debiased Modelling with Synthetic Data"
   ]
  },
  {
   "cell_type": "markdown",
   "metadata": {},
   "source": [
    "The results of the code cells below are preseneted and discussed in Section 6.4.4."
   ]
  },
  {
   "cell_type": "markdown",
   "metadata": {},
   "source": [
    "### Logistic Regression"
   ]
  },
  {
   "cell_type": "code",
   "execution_count": 12,
   "metadata": {},
   "outputs": [
    {
     "name": "stdout",
     "output_type": "stream",
     "text": [
      "Best Hyperparameters: {'C': 1, 'penalty': 'l2', 'solver': 'saga'}\n",
      "Avg F1 Score: 0.8681251384054148\n"
     ]
    }
   ],
   "source": [
    "lr_model_synth_double_debiased, lr_val_folds_synth_double_debiased = (\n",
    "    feature_selection.run_logistic_regression(\n",
    "        X_train_synth_tvae, y_train_synth_tvae, disp=True\n",
    "    )\n",
    ")"
   ]
  },
  {
   "cell_type": "markdown",
   "metadata": {},
   "source": [
    "### Random Forest"
   ]
  },
  {
   "cell_type": "code",
   "execution_count": 13,
   "metadata": {},
   "outputs": [
    {
     "name": "stdout",
     "output_type": "stream",
     "text": [
      "Best Hyperparameters: {'max_depth': 10, 'min_samples_leaf': 4, 'min_samples_split': 2, 'n_estimators': 300}\n",
      "Avg F1 Score: 0.8652360141768168\n"
     ]
    }
   ],
   "source": [
    "rf_model_double_debiased_synth, rf_val_folds_double_debiased_synth = (\n",
    "    feature_selection.run_rf(X_train_synth_tvae, y_train_synth_tvae, disp=True)\n",
    ")"
   ]
  },
  {
   "cell_type": "markdown",
   "metadata": {},
   "source": [
    "### XGBoost"
   ]
  },
  {
   "cell_type": "code",
   "execution_count": 14,
   "metadata": {},
   "outputs": [
    {
     "name": "stdout",
     "output_type": "stream",
     "text": [
      "Best Hyperparameters: {'colsample_bytree': 0.7, 'gamma': 0.05, 'learning_rate': 0.05, 'n_estimators': 100, 'subsample': 1}\n",
      "Avg F1 Score: 0.8670300658681287\n"
     ]
    }
   ],
   "source": [
    "xgboost_model_double_debiased_synth, xgb_val_folds_double_debiased_synth = (\n",
    "    feature_selection.run_xgb(X_train_synth_tvae, y_train_synth_tvae, disp=True)\n",
    ")"
   ]
  },
  {
   "cell_type": "markdown",
   "metadata": {},
   "source": [
    "### AdaBoost"
   ]
  },
  {
   "cell_type": "code",
   "execution_count": 15,
   "metadata": {},
   "outputs": [
    {
     "name": "stdout",
     "output_type": "stream",
     "text": [
      "Best Hyperparameters: {'algorithm': 'SAMME', 'learning_rate': 0.05, 'n_estimators': 50}\n",
      "Avg F1 Score: 0.8584820310203846\n"
     ]
    }
   ],
   "source": [
    "ada_model_double_debiased_synth, ada_val_folds_double_debiased_synth = (\n",
    "    feature_selection.run_ada(X_train_synth_tvae, y_train_synth_tvae, disp=True)\n",
    ")"
   ]
  },
  {
   "cell_type": "markdown",
   "metadata": {},
   "source": [
    "### MLP"
   ]
  },
  {
   "cell_type": "code",
   "execution_count": 16,
   "metadata": {},
   "outputs": [
    {
     "name": "stdout",
     "output_type": "stream",
     "text": [
      "Best Hyperparameters: {'mlp__activation': 'relu', 'mlp__alpha': 0.001, 'mlp__batch_size': 32, 'mlp__beta_1': 0.9, 'mlp__beta_2': 0.9999, 'mlp__early_stopping': True, 'mlp__hidden_layer_sizes': (100, 50), 'mlp__learning_rate_init': 0.01, 'mlp__max_iter': 500, 'mlp__solver': 'adam'}\n",
      "Avg F1 Score: 0.8672853756228148\n"
     ]
    }
   ],
   "source": [
    "mlp_model_double_debiased_synth, mlp_val_folds_double_debiased_synth = (\n",
    "    feature_selection.run_mlp(X_train_synth_tvae, y_train_synth_tvae, disp=True)\n",
    ")"
   ]
  },
  {
   "cell_type": "markdown",
   "metadata": {},
   "source": [
    "### Evaluation on external dataset"
   ]
  },
  {
   "cell_type": "code",
   "execution_count": 19,
   "metadata": {},
   "outputs": [
    {
     "name": "stdout",
     "output_type": "stream",
     "text": [
      "Confusion Matrix:\n",
      "[[75 27]\n",
      " [11 53]]\n",
      "Accuracy: 0.7711\n",
      "Recall: 0.8281\n",
      "Specificity: 0.7353\n",
      "F1-Score: 0.7361\n"
     ]
    }
   ],
   "source": [
    "y_test_pred_synth_real_subset = feature_selection.evaluate_model_performance(\n",
    "    mlp_model_double_debiased_synth,\n",
    "    X_test_external_dataset,\n",
    "    y_test_external_dataset,\n",
    ")"
   ]
  },
  {
   "cell_type": "markdown",
   "metadata": {},
   "source": [
    "### Evaluation on entire dataset"
   ]
  },
  {
   "cell_type": "code",
   "execution_count": 20,
   "metadata": {},
   "outputs": [
    {
     "name": "stdout",
     "output_type": "stream",
     "text": [
      "Confusion Matrix:\n",
      "[[246  77]\n",
      " [ 53 176]]\n",
      "Accuracy: 0.7645\n",
      "Recall: 0.7686\n",
      "Specificity: 0.7616\n",
      "F1-Score: 0.7303\n"
     ]
    }
   ],
   "source": [
    "y_test_pred_synth = feature_selection.evaluate_model_performance(\n",
    "    mlp_model_double_debiased_synth, X_test_entire_dataset, y_test_entire_dataset\n",
    ")"
   ]
  }
 ],
 "metadata": {
  "kernelspec": {
   "display_name": "Python 3",
   "language": "python",
   "name": "python3"
  },
  "language_info": {
   "codemirror_mode": {
    "name": "ipython",
    "version": 3
   },
   "file_extension": ".py",
   "mimetype": "text/x-python",
   "name": "python",
   "nbconvert_exporter": "python",
   "pygments_lexer": "ipython3",
   "version": "3.11.5"
  }
 },
 "nbformat": 4,
 "nbformat_minor": 2
}
