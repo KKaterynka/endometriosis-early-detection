{
 "cells": [
  {
   "cell_type": "markdown",
   "metadata": {},
   "source": [
    "# ⭐️ Data Preprocessing"
   ]
  },
  {
   "cell_type": "markdown",
   "metadata": {},
   "source": [
    "Import all the required packages."
   ]
  },
  {
   "cell_type": "code",
   "execution_count": 38,
   "metadata": {},
   "outputs": [],
   "source": [
    "import sys\n",
    "\n",
    "sys.path.append(\"./experiment_utils\")\n",
    "sys.path.append(\"./preprocessing_utils\")\n",
    "sys.path.append(\"./feature_selection_utils\")"
   ]
  },
  {
   "cell_type": "code",
   "execution_count": 39,
   "metadata": {},
   "outputs": [],
   "source": [
    "import pandas as pd\n",
    "import numpy as np\n",
    "import preprocessing\n",
    "import feature_selection\n",
    "import experiments_utils\n",
    "\n",
    "pd.options.mode.chained_assignment = None\n",
    "pd.set_option(\"display.max_rows\", None)\n",
    "pd.set_option(\"display.max_columns\", None)\n",
    "\n",
    "np.random.seed(42)"
   ]
  },
  {
   "cell_type": "markdown",
   "metadata": {},
   "source": [
    "## Data Preparation"
   ]
  },
  {
   "cell_type": "markdown",
   "metadata": {},
   "source": [
    "Load dataset."
   ]
  },
  {
   "cell_type": "code",
   "execution_count": 40,
   "metadata": {},
   "outputs": [],
   "source": [
    "df_endo = pd.read_csv(experiments_utils.ENDO_DATA_GFORMS_PATH)\n",
    "df_endo = df_endo.drop(columns=[\"Позначка часу\"])"
   ]
  },
  {
   "cell_type": "markdown",
   "metadata": {},
   "source": [
    "Rename columns."
   ]
  },
  {
   "cell_type": "code",
   "execution_count": 41,
   "metadata": {},
   "outputs": [],
   "source": [
    "df_endo = preprocessing.rename_columns(df_endo)"
   ]
  },
  {
   "cell_type": "code",
   "execution_count": 42,
   "metadata": {},
   "outputs": [
    {
     "name": "stdout",
     "output_type": "stream",
     "text": [
      "Initial dataset comprises 572 observations and 76 features.\n"
     ]
    }
   ],
   "source": [
    "print(\n",
    "    f\"Initial dataset comprises {df_endo.shape[0]} observations and {df_endo.shape[1]} features.\"\n",
    ")"
   ]
  },
  {
   "cell_type": "markdown",
   "metadata": {},
   "source": [
    "Remove the participants who do not experience bleeding."
   ]
  },
  {
   "cell_type": "code",
   "execution_count": 43,
   "metadata": {},
   "outputs": [
    {
     "name": "stdout",
     "output_type": "stream",
     "text": [
      "Dataset comprises 561 after dropping observations where women experiences no bleeding.\n"
     ]
    }
   ],
   "source": [
    "df_endo = df_endo[df_endo[\"period_duration\"] != \"0 days (no bleeding)\"]\n",
    "print(\n",
    "    f\"Dataset comprises {df_endo.shape[0]} after dropping observations where women experiences no bleeding.\"\n",
    ")"
   ]
  },
  {
   "cell_type": "markdown",
   "metadata": {},
   "source": [
    "Remove participants who filled in less than 75% of the survey."
   ]
  },
  {
   "cell_type": "code",
   "execution_count": 44,
   "metadata": {},
   "outputs": [
    {
     "name": "stdout",
     "output_type": "stream",
     "text": [
      "Dataset comprises 552 after dropping observations where participant did not fill in at least 25% of the survey.\n"
     ]
    }
   ],
   "source": [
    "df_endo = df_endo.dropna(thresh=len(df_endo.columns) * (1 - 0.25))\n",
    "print(\n",
    "    f\"Dataset comprises {df_endo.shape[0]} after dropping observations where participant did not fill in at least 25% of the survey.\"\n",
    ")"
   ]
  },
  {
   "cell_type": "markdown",
   "metadata": {},
   "source": [
    "Calculate the proportion of missing values.  \n",
    "\n",
    "We do not consider unanswered suggestions and questions field as missing values. \n",
    "\n",
    "If a participant does not indicate the presence of a condition in their family, we assume either they are aware that it is not present in their family or they do not know whether it (actually) exists."
   ]
  },
  {
   "cell_type": "code",
   "execution_count": 45,
   "metadata": {},
   "outputs": [
    {
     "name": "stdout",
     "output_type": "stream",
     "text": [
      "Missing ratio: 0.55%.\n"
     ]
    }
   ],
   "source": [
    "excluded_columns = [\n",
    "    \"suggestions_questions\",\n",
    "    \"family_history_endometriosis\",\n",
    "    \"family_history_fibroids\",\n",
    "    \"family_history_pcos\",\n",
    "    \"family_history_infertility\",\n",
    "    \"family_history_heavy_bleeding\",\n",
    "    \"family_history_pelvic_pain\",\n",
    "]\n",
    "\n",
    "df_filtered = df_endo.drop(columns=excluded_columns)\n",
    "missing_ratio = df_filtered.isna().sum().sum() / df_filtered.size * 100\n",
    "print(f\"Missing ratio: {missing_ratio:.2f}%.\")"
   ]
  },
  {
   "cell_type": "markdown",
   "metadata": {},
   "source": [
    "## Feature preprocessing"
   ]
  },
  {
   "cell_type": "code",
   "execution_count": 46,
   "metadata": {},
   "outputs": [
    {
     "name": "stderr",
     "output_type": "stream",
     "text": [
      "Downcasting behavior in `replace` is deprecated and will be removed in a future version. To retain the old behavior, explicitly call `result.infer_objects(copy=False)`. To opt-in to the future behavior, set `pd.set_option('future.no_silent_downcasting', True)`\n"
     ]
    }
   ],
   "source": [
    "# preprocess columns\n",
    "df_endo = preprocessing.preprocess_gyn_data(df_endo)"
   ]
  },
  {
   "cell_type": "code",
   "execution_count": 47,
   "metadata": {},
   "outputs": [],
   "source": [
    "# based on all conditions mentioned, create binary columns for endometriosis and fibroids\n",
    "df_endo[\"has_endometriosis\"] = (\n",
    "    df_endo[\"all_conditions_mentioned\"]\n",
    "    .str.contains(\"Endometriosis\", na=False)\n",
    "    .astype(int)\n",
    ")\n",
    "df_endo[\"has_fibroids\"] = (\n",
    "    df_endo[\"all_conditions_mentioned\"]\n",
    "    .str.contains(\"Uterine fibroids\", na=False)\n",
    "    .astype(int)\n",
    ")"
   ]
  },
  {
   "cell_type": "code",
   "execution_count": 48,
   "metadata": {},
   "outputs": [
    {
     "name": "stdout",
     "output_type": "stream",
     "text": [
      "Dataset comprises a total of 552 participants: 229 diagnosed with endometriosis and 323 not.\n"
     ]
    }
   ],
   "source": [
    "print(\n",
    "    f\"Dataset comprises a total of {len(df_endo)} participants: {len(df_endo[df_endo['has_endometriosis'] == 1])} diagnosed with endometriosis and {len(df_endo[df_endo['has_endometriosis'] == 0])} not.\"\n",
    ")"
   ]
  },
  {
   "cell_type": "code",
   "execution_count": 49,
   "metadata": {},
   "outputs": [
    {
     "name": "stdout",
     "output_type": "stream",
     "text": [
      "Dataset comprises a total of 552 participants: 98 diagnosed with uterine fibroids and 454 not.\n"
     ]
    }
   ],
   "source": [
    "print(\n",
    "    f\"Dataset comprises a total of {len(df_endo)} participants: {len(df_endo[df_endo['has_fibroids'] == 1])} diagnosed with uterine fibroids and {len(df_endo[df_endo['has_fibroids'] == 0])} not.\"\n",
    ")"
   ]
  },
  {
   "cell_type": "code",
   "execution_count": 50,
   "metadata": {},
   "outputs": [
    {
     "name": "stdout",
     "output_type": "stream",
     "text": [
      "Dataset comprises a total of 552 participants: 50 diagnosed with both endoemtriosis and uterine fibroids.\n"
     ]
    }
   ],
   "source": [
    "df_endo[\"has_endo_and_ufib\"] = df_endo[\"has_endometriosis\"] & df_endo[\"has_fibroids\"]\n",
    "print(\n",
    "    f\"Dataset comprises a total of {len(df_endo)} participants: {len(df_endo[df_endo['has_endo_and_ufib'] == 1])} diagnosed with both endoemtriosis and uterine fibroids.\"\n",
    ")"
   ]
  },
  {
   "cell_type": "code",
   "execution_count": 51,
   "metadata": {},
   "outputs": [],
   "source": [
    "# save prepared data\n",
    "df_endo.to_csv(\n",
    "    experiments_utils.ENDO_DATA_PREDICTION_PATH, encoding=\"utf-8\", index=False\n",
    ")"
   ]
  },
  {
   "cell_type": "markdown",
   "metadata": {},
   "source": [
    "## Positive-Unlabeled Learning for Estimating Family History of Endoemtriosis\n",
    "\n",
    "The methodology of code cells below is described in Section 5.2 (Handling Bias in Family History of Endometriosis) and the results are discussed in Section 6.1 (Handling Uncertainty in Family History of Endometriosis).\n"
   ]
  },
  {
   "cell_type": "markdown",
   "metadata": {},
   "source": [
    "If family_history_endometriosis = 1, we can confidently assume the person is aware of the condition in their family. However, if it is 0, it does not necessarily mean the condition is absent - it could indicate either a true absence or a lack of knowledge about its presence."
   ]
  },
  {
   "cell_type": "code",
   "execution_count": 52,
   "metadata": {},
   "outputs": [],
   "source": [
    "pu_prediction_features = experiments_utils.PU_PREDICTION_FEATURES\n",
    "df_preds = df_endo[pu_prediction_features]"
   ]
  },
  {
   "cell_type": "markdown",
   "metadata": {},
   "source": [
    "### Selecting participants for training"
   ]
  },
  {
   "cell_type": "code",
   "execution_count": 53,
   "metadata": {},
   "outputs": [
    {
     "name": "stdout",
     "output_type": "stream",
     "text": [
      "85 women with family history of endometriosis were selected for training.\n"
     ]
    }
   ],
   "source": [
    "X = df_preds.drop(columns=[\"family_history_endometriosis\"])\n",
    "y = np.where(df_preds[\"family_history_endometriosis\"] == 1, 1, 0)\n",
    "\n",
    "positive_indices = np.where(y == 1)[0]\n",
    "labeled_positive_indices = X.index[positive_indices][\n",
    "    np.random.choice(\n",
    "        len(positive_indices), size=int(0.6 * len(positive_indices)), replace=False\n",
    "    )\n",
    "]\n",
    "print(\n",
    "    f\"{len(labeled_positive_indices)} women with family history of endometriosis were selected for training.\"\n",
    ")"
   ]
  },
  {
   "cell_type": "code",
   "execution_count": 54,
   "metadata": {},
   "outputs": [],
   "source": [
    "X_labeled = X.loc[labeled_positive_indices]\n",
    "y_labeled = np.ones(X_labeled.shape[0])"
   ]
  },
  {
   "cell_type": "code",
   "execution_count": 55,
   "metadata": {},
   "outputs": [
    {
     "name": "stdout",
     "output_type": "stream",
     "text": [
      "82 women without family history of endometriosis were selected for training.\n"
     ]
    }
   ],
   "source": [
    "unlabeled_indices = np.where(y != 1)[0]\n",
    "X_unlabeled = X.iloc[unlabeled_indices]\n",
    "y_unlabeled = y[unlabeled_indices]\n",
    "negative_size = int(0.20 * X_unlabeled.shape[0])\n",
    "negative_indices = np.random.choice(\n",
    "    X_unlabeled.index, size=negative_size, replace=False\n",
    ")\n",
    "\n",
    "X_negatives = X_unlabeled.loc[negative_indices]\n",
    "y_negatives = np.zeros(X_negatives.shape[0])\n",
    "print(\n",
    "    f\"{len(X_negatives)} women without family history of endometriosis were selected for training.\"\n",
    ")"
   ]
  },
  {
   "cell_type": "code",
   "execution_count": 56,
   "metadata": {},
   "outputs": [],
   "source": [
    "train_indices = np.hstack([labeled_positive_indices, negative_indices])\n",
    "X_train = pd.DataFrame(\n",
    "    np.vstack([X_labeled, X_negatives]), columns=X.columns, index=train_indices\n",
    ")\n",
    "y_train = np.hstack([y_labeled, y_negatives])"
   ]
  },
  {
   "cell_type": "code",
   "execution_count": 57,
   "metadata": {},
   "outputs": [],
   "source": [
    "remaining_indices = X_unlabeled.index.difference(negative_indices)\n",
    "X_remaining_unlabeled = pd.DataFrame(\n",
    "    X_unlabeled.loc[remaining_indices], columns=X.columns, index=remaining_indices\n",
    ")"
   ]
  },
  {
   "cell_type": "code",
   "execution_count": 58,
   "metadata": {},
   "outputs": [],
   "source": [
    "X_train = pd.DataFrame(X_train, columns=X.columns, index=train_indices)\n",
    "X_remaining_unlabeled = pd.DataFrame(\n",
    "    X_remaining_unlabeled, columns=X.columns, index=remaining_indices\n",
    ")\n",
    "y_remaining_unlabeled = y_unlabeled[~X_unlabeled.index.isin(negative_indices)]"
   ]
  },
  {
   "cell_type": "code",
   "execution_count": 59,
   "metadata": {},
   "outputs": [],
   "source": [
    "X_train, X_remaining_unlabeled = preprocessing.impute_features(\n",
    "    X_train, X_remaining_unlabeled\n",
    ")"
   ]
  },
  {
   "cell_type": "markdown",
   "metadata": {},
   "source": [
    "### Model Training"
   ]
  },
  {
   "cell_type": "markdown",
   "metadata": {},
   "source": [
    "#### Logistic Regression"
   ]
  },
  {
   "cell_type": "code",
   "execution_count": 60,
   "metadata": {},
   "outputs": [
    {
     "name": "stdout",
     "output_type": "stream",
     "text": [
      "Best Hyperparameters: {'C': 0.01, 'l1_ratio': 0.5, 'penalty': 'elasticnet', 'solver': 'saga'}\n",
      "Avg F1 Score: 0.6746666666666666\n"
     ]
    }
   ],
   "source": [
    "lr_model, _ = feature_selection.run_logistic_regression(X_train, y_train, disp=True)"
   ]
  },
  {
   "cell_type": "markdown",
   "metadata": {},
   "source": [
    "#### Random Forest"
   ]
  },
  {
   "cell_type": "code",
   "execution_count": 61,
   "metadata": {},
   "outputs": [
    {
     "name": "stdout",
     "output_type": "stream",
     "text": [
      "Best Hyperparameters: {'max_depth': 10, 'min_samples_leaf': 8, 'min_samples_split': 2, 'n_estimators': 300}\n",
      "Avg F1 Score: 0.6882706235647412\n"
     ]
    }
   ],
   "source": [
    "rf_model, _ = feature_selection.run_rf(X_train, y_train, disp=True)"
   ]
  },
  {
   "cell_type": "markdown",
   "metadata": {},
   "source": [
    "#### XGBoost"
   ]
  },
  {
   "cell_type": "code",
   "execution_count": 62,
   "metadata": {},
   "outputs": [
    {
     "name": "stdout",
     "output_type": "stream",
     "text": [
      "Best Hyperparameters: {'colsample_bytree': 0.7, 'gamma': 0.05, 'learning_rate': 0.2, 'n_estimators': 100, 'subsample': 0.7}\n",
      "Avg F1 Score: 0.6923147340889276\n"
     ]
    }
   ],
   "source": [
    "xgb_model, _ = feature_selection.run_xgb(X_train, y_train, disp=True)"
   ]
  },
  {
   "cell_type": "markdown",
   "metadata": {},
   "source": [
    "#### AdaBoost"
   ]
  },
  {
   "cell_type": "code",
   "execution_count": 63,
   "metadata": {},
   "outputs": [
    {
     "name": "stdout",
     "output_type": "stream",
     "text": [
      "Best Hyperparameters: {'algorithm': 'SAMME', 'learning_rate': 0.01, 'n_estimators': 100}\n",
      "Avg F1 Score: 0.6564323522278181\n"
     ]
    }
   ],
   "source": [
    "ada_model, _ = feature_selection.run_ada(X_train, y_train, disp=True)"
   ]
  },
  {
   "cell_type": "markdown",
   "metadata": {},
   "source": [
    "#### MLP"
   ]
  },
  {
   "cell_type": "code",
   "execution_count": 64,
   "metadata": {},
   "outputs": [
    {
     "name": "stdout",
     "output_type": "stream",
     "text": [
      "Best Hyperparameters: {'mlp__activation': 'relu', 'mlp__alpha': 0.0001, 'mlp__batch_size': 8, 'mlp__beta_1': 0.99, 'mlp__beta_2': 0.999, 'mlp__early_stopping': True, 'mlp__hidden_layer_sizes': (100, 100, 50), 'mlp__learning_rate_init': 0.001, 'mlp__max_iter': 500, 'mlp__solver': 'adam'}\n",
      "Avg F1 Score: 0.7169092169092168\n"
     ]
    }
   ],
   "source": [
    "mlp_model, _ = feature_selection.run_mlp(X_train, y_train, disp=True, pu_learning=True)"
   ]
  },
  {
   "cell_type": "markdown",
   "metadata": {},
   "source": [
    "#### TabPFN"
   ]
  },
  {
   "cell_type": "markdown",
   "metadata": {},
   "source": [
    "Please note that TabPFn runs under [TabPFN_endometriosis_experiment.ipynb](https://colab.research.google.com/drive/1S9i1o-kvCWtUDNY7kDj0AAR88KAaJCEo#scrollTo=FXdTtXVeqzgD).\n",
    "\n",
    "It achieves average F1 score of 0.6399."
   ]
  },
  {
   "cell_type": "markdown",
   "metadata": {},
   "source": [
    "### Model Evaluation\n",
    "\n",
    "We select best-performing model from model-training stage."
   ]
  },
  {
   "cell_type": "code",
   "execution_count": 65,
   "metadata": {},
   "outputs": [
    {
     "name": "stdout",
     "output_type": "stream",
     "text": [
      "Confusion Matrix:\n",
      "[[181 147]\n",
      " [  0   0]]\n",
      "Accuracy: 0.5518\n",
      "Recall: 0.0000\n",
      "Specificity: 0.5518\n",
      "F1-Score: 0.0000\n"
     ]
    }
   ],
   "source": [
    "family_hist_preds = feature_selection.evaluate_model_performance(\n",
    "    mlp_model, X_remaining_unlabeled, y_remaining_unlabeled\n",
    ")"
   ]
  },
  {
   "cell_type": "markdown",
   "metadata": {},
   "source": [
    "Setting updated family history of endometriosis."
   ]
  },
  {
   "cell_type": "code",
   "execution_count": 66,
   "metadata": {},
   "outputs": [],
   "source": [
    "X_remaining_unlabeled[\"family_history_endometriosis_prediction\"] = family_hist_preds\n",
    "X_train[\"family_history_endometriosis_prediction\"] = y_train"
   ]
  },
  {
   "cell_type": "code",
   "execution_count": 67,
   "metadata": {},
   "outputs": [],
   "source": [
    "df_preds[\"family_history_endometriosis_prediction\"] = 0\n",
    "df_preds.loc[remaining_indices, \"family_history_endometriosis_prediction\"] = (\n",
    "    X_remaining_unlabeled[\"family_history_endometriosis_prediction\"]\n",
    ")\n",
    "df_preds.loc[\n",
    "    df_preds[\"family_history_endometriosis\"] == 1,\n",
    "    \"family_history_endometriosis_prediction\",\n",
    "] = 1"
   ]
  },
  {
   "cell_type": "code",
   "execution_count": 68,
   "metadata": {},
   "outputs": [],
   "source": [
    "df_endo[\"family_history_endometriosis_prediction\"] = df_preds[\n",
    "    \"family_history_endometriosis_prediction\"\n",
    "]"
   ]
  },
  {
   "cell_type": "code",
   "execution_count": 69,
   "metadata": {},
   "outputs": [],
   "source": [
    "# save prepared data with new feature - family history of endometriosis prediction\n",
    "df_endo.to_csv(\n",
    "    experiments_utils.ENDO_DATA_PREDICTION_PATH, encoding=\"utf-8\", index=False\n",
    ")"
   ]
  }
 ],
 "metadata": {
  "kernelspec": {
   "display_name": "Python 3",
   "language": "python",
   "name": "python3"
  },
  "language_info": {
   "codemirror_mode": {
    "name": "ipython",
    "version": 3
   },
   "file_extension": ".py",
   "mimetype": "text/x-python",
   "name": "python",
   "nbconvert_exporter": "python",
   "pygments_lexer": "ipython3",
   "version": "3.11.5"
  }
 },
 "nbformat": 4,
 "nbformat_minor": 2
}
